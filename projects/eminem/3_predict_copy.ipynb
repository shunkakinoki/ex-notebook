{
 "cells": [
  {
   "cell_type": "code",
   "execution_count": 1,
   "metadata": {},
   "outputs": [
    {
     "data": {
      "text/plain": [
       "'/home/ubuntu/anaconda3/envs/shun/bin/python'"
      ]
     },
     "execution_count": 1,
     "metadata": {},
     "output_type": "execute_result"
    }
   ],
   "source": [
    "import sys\n",
    "sys.executable"
   ]
  },
  {
   "cell_type": "code",
   "execution_count": 2,
   "metadata": {},
   "outputs": [],
   "source": [
    "%reload_ext autoreload\n",
    "%autoreload 2\n",
    "%matplotlib inline"
   ]
  },
  {
   "cell_type": "code",
   "execution_count": 3,
   "metadata": {},
   "outputs": [],
   "source": [
    "from fastai import *\n",
    "from fastai.text import *"
   ]
  },
  {
   "cell_type": "code",
   "execution_count": 4,
   "metadata": {},
   "outputs": [],
   "source": [
    "DATA_PATH = Path('../../../data/eminem/')\n",
    "CSV_PATH = Path('../../../data/eminem/text_eminem.csv')"
   ]
  },
  {
   "cell_type": "code",
   "execution_count": 5,
   "metadata": {},
   "outputs": [
    {
     "data": {
      "text/html": [
       "<div>\n",
       "<style scoped>\n",
       "    .dataframe tbody tr th:only-of-type {\n",
       "        vertical-align: middle;\n",
       "    }\n",
       "\n",
       "    .dataframe tbody tr th {\n",
       "        vertical-align: top;\n",
       "    }\n",
       "\n",
       "    .dataframe thead th {\n",
       "        text-align: right;\n",
       "    }\n",
       "</style>\n",
       "<table border=\"1\" class=\"dataframe\">\n",
       "  <thead>\n",
       "    <tr style=\"text-align: right;\">\n",
       "      <th></th>\n",
       "      <th>text</th>\n",
       "    </tr>\n",
       "  </thead>\n",
       "  <tbody>\n",
       "    <tr>\n",
       "      <th>0</th>\n",
       "      <td>Eminem] Peace to Thirstin Howl, A.L. and Words...</td>\n",
       "    </tr>\n",
       "    <tr>\n",
       "      <th>1</th>\n",
       "      <td>I reckon you ain't familiar with these here p...</td>\n",
       "    </tr>\n",
       "    <tr>\n",
       "      <th>2</th>\n",
       "      <td>Lately I've been hard to reach I've been too ...</td>\n",
       "    </tr>\n",
       "    <tr>\n",
       "      <th>3</th>\n",
       "      <td>Eminem Miscellaneous B-Rabbit Vs. Papa Doc (F...</td>\n",
       "    </tr>\n",
       "    <tr>\n",
       "      <th>4</th>\n",
       "      <td>Eminem Miscellaneous Eminem Exclusive Freesty...</td>\n",
       "    </tr>\n",
       "  </tbody>\n",
       "</table>\n",
       "</div>"
      ],
      "text/plain": [
       "                                                text\n",
       "0  Eminem] Peace to Thirstin Howl, A.L. and Words...\n",
       "1   I reckon you ain't familiar with these here p...\n",
       "2   Lately I've been hard to reach I've been too ...\n",
       "3   Eminem Miscellaneous B-Rabbit Vs. Papa Doc (F...\n",
       "4   Eminem Miscellaneous Eminem Exclusive Freesty..."
      ]
     },
     "execution_count": 5,
     "metadata": {},
     "output_type": "execute_result"
    }
   ],
   "source": [
    "df = pd.read_csv(CSV_PATH);\n",
    "df.head()"
   ]
  },
  {
   "cell_type": "code",
   "execution_count": 6,
   "metadata": {},
   "outputs": [
    {
     "data": {
      "text/plain": [
       "\" I reckon you ain't familiar with these here parts You know, there's a story behind that there saloon Twenty years ago, two outlaws took this whole town over Sheriffs couldn't stop 'em, quickest damn gun slinger I've ever seen Got murdered in cold blood, that ol' saloon there was their lil' home Away from home, they say the ghosts of bad and evil still live In that tavern and on a quiet night, you can still hear the footsteps of Slim Shady and Royce Da Five-Nine  I don't speak, I float in the air wrapped in a sheet I'm not a real person, I'm a ghost trapped in a beat I translate when my voice is read through a seismograph And a noise is bred, picked up and transmitted through Royce's head Trapped him in his room, possessed him and hoist his bed Till the evilness flows through his blood like poisonous lead Told him each one of his boys is dead I asked him to come to the dark side, he made a choice and said  Who hard? yo I done heard worse We can get in two cars and accelerate at each other To see which one'll swerve first Two blind bandits panic, whose mental capacity holds That of a globe on top of nine other planets Kissed the cheek of the devil, intelligence level is hellier than Treble peakin' on speakers in the ghetto  Dismissal, I'm not a fair man, disgraced the race of a atheist Intercepting missiles wit my bare hands like a patriot One track sliced without swords, I buried the Christ corpse In my past life when the black knight mounted the white horse And stay over-worked, its like the Nazis in the nations Collaborating, attemptin' to take over the earth  'Cuz this is what happens when bad meets evil We hit the trees till we look like Vietnamese people He's evil, and I'm bad like Steve Segal Above the law 'cuz I don't agree wit police either We ain't eager to be legal So please leave me with the keys to your jeep eagle  I breathe ether in three amounts When I stab myself in the knee with a diseased needle Releasin' rage on anybody in squeezing range Cold enough to make the seasons change into freezing rain He's insane, no I'm not, I just want to shoot up And I'm pissed off 'cuz I can't find a decent vain  The disaster wit dreads I'm bad enough to commit suicide and survive long enough To kill my soul after I'm dead When in danger it's funny actually my flavor's similar to a waiter 'Cuz I serve any stranger with money I spray a hundred, man until they joint chains While slippin' bullets at point blank range like they was punches Piss on a flag and burn it, murder you then come to your funeral  Serve this lobbyist, strangle your body then confirm you Whippin' human ass, throwin' blows crackin' jaws Wit my fists wrapped in gauze, dipped in glue and glass I'm blazin' MC's, at the same time amazin' MC's Somehow MC's ain't that eye-brow raisin' to me From all of angles of us, flash a mack loud enough To cast a avalanche and bust till volcanoes erupt  Hello? Billy, aiyyo what's up We're comin' to get you Stop, they know it's us  I used to be a loudmouth, remember me? I'm the one who burned your house down Well I'm out now, and this time I'm comin' back to blow your house up And I ain't gone leave you a window to jump out of Give me two fat tabs and three shrooms And you won't see me like fat people in steam rooms And when I go to hell and I'm gettin ready to leave I'ma put air in a bag and charge people to breathe  'Cuz this is what happens when bad meets evil And we hit the trees till we look like Vietnamese people He's Evil, and I'm Bad like Steve Segal Against peaceful, see you in hell for the sequel We'll be waitin', See you in hell Wall Street, Royce Da Five-Nine, Slim Shady See you in hell for the sequel, bye bye Bad meets evil, what? Till next time  {And so that's the story when bad meets evil Two of the most wanted individuals in the county Made Jesse James and Billy the Kid look like law-abiding citizens It's too bad they had to go out the way they did Got shot in the back comin' out of that ol' saloon But their spirits still live on till this day Wait, did y'all hear that?}</p> ]\""
      ]
     },
     "execution_count": 6,
     "metadata": {},
     "output_type": "execute_result"
    }
   ],
   "source": [
    "df['text'][1]"
   ]
  },
  {
   "cell_type": "code",
   "execution_count": 7,
   "metadata": {},
   "outputs": [
    {
     "data": {
      "text/plain": [
       "500"
      ]
     },
     "execution_count": 7,
     "metadata": {},
     "output_type": "execute_result"
    }
   ],
   "source": [
    "len(df)"
   ]
  },
  {
   "cell_type": "code",
   "execution_count": 8,
   "metadata": {},
   "outputs": [],
   "source": [
    "bs = 64"
   ]
  },
  {
   "cell_type": "code",
   "execution_count": 9,
   "metadata": {},
   "outputs": [],
   "source": [
    "data_lm = (TextList.from_df(df, DATA_PATH, col=['text']) \n",
    "           .random_split_by_pct(0.1)\n",
    "           .label_for_lm()\n",
    "           .databunch(bs=bs))\n",
    "data_lm.save('s2_lm')"
   ]
  },
  {
   "cell_type": "code",
   "execution_count": 10,
   "metadata": {},
   "outputs": [],
   "source": [
    "data_lm = TextLMDataBunch.load(DATA_PATH, 's2_lm', bs=bs)"
   ]
  },
  {
   "cell_type": "code",
   "execution_count": 11,
   "metadata": {},
   "outputs": [
    {
     "data": {
      "text/html": [
       "<table>  <col width='5%'>  <col width='95%'>  <tr>\n",
       "    <th>idx</th>\n",
       "    <th>text</th>\n",
       "  </tr>\n",
       "  <tr>\n",
       "    <th>0</th>\n",
       "    <th>xxbos xxmaj eminem xxmaj miscellaneous xxmaj comin ' xxmaj out xxmaj my xxmaj closet ( xxunk ) xxmaj intro ] xxmaj where 's my penis ? i have no penis in my butt hole - there you go xxmaj yeah .. yo , yo xxmaj have you ever been hated or discriminated against ? i have ; i 've been xxunk and ejaculated against xxmaj xxunk xxunk up my faggot</th>\n",
       "  </tr>\n",
       "  <tr>\n",
       "    <th>1</th>\n",
       "    <th>the vocal cords do n't work in her throat no more ? ! ( xxup ahhh ! ) xxmaj these motherfuckers are thinkin i 'm playin xxmaj thinkin i 'm sayin the shit cause i 'm thinkin it just to be sayin it ( xxup ahhh ! ) xxmaj put your hands down bitch , i ai n't gon ' shoot you i 'm a pull + xxup xxunk to</th>\n",
       "  </tr>\n",
       "  <tr>\n",
       "    <th>2</th>\n",
       "    <th>drop that beat and scratch that break xxmaj now just blow a little bit of that smoke my way xxmaj and let 's go ( you 're now smoking with the best , the best ) i said one more time for old time 's sake xxmaj dre drop that beat and scratch that break xxmaj now just send a little bit of that smoke my way xxmaj and let</th>\n",
       "  </tr>\n",
       "  <tr>\n",
       "    <th>3</th>\n",
       "    <th>took your motherfucking xxup dj and stole him too xxmaj so , you fall in a slump and get all emotional xxmaj so , now you sing and mix slang with blues and xxunk strings xxmaj confused as fuck cause now your music sucks dick xxmaj mr. xxmaj mr. xxmaj ass xxmaj kisser to get accepted in rap xxmaj quicker but never last , and xxmaj everlast is a xxmaj</th>\n",
       "  </tr>\n",
       "  <tr>\n",
       "    <th>4</th>\n",
       "    <th>house , look at these cars , they 're so nice , woo ! xxmaj oh , but you did n't know fame has a price too ? xxmaj that you just now seeing the downside too xxmaj lose your best friend from high school , your wife too xxmaj ai n't even sure if your kids like you xxmaj come off tour , ca n't even sleep at night</th>\n",
       "  </tr>\n",
       "  <tr>\n",
       "    <th>5</th>\n",
       "    <th>hate me xxmaj yea xxrep 4 h eahhh xxmaj it 's like . you . do n't . want . me to win xxmaj so . this . time . i 'm goin' in ! xxmaj eminem ] xxmaj yeah this game has got me goin' crazy xxmaj fuck it , i am crazy xxmaj what 's new , what kinda fuckin ' glue you 'd think i 'd be</th>\n",
       "  </tr>\n",
       "  <tr>\n",
       "    <th>6</th>\n",
       "    <th>motherfuckers for guest appearances xxmaj and you ca n't even get the clearances , 'cause real lyricists xxmaj do n't even respect you or take you serious xxmaj it 's not that we do n't like you we hate you period xxmaj talk about a mid - life crisis , damn xxmaj last week you was shaking xxmaj obie xxmaj trice 's hand xxmaj now he 's a buster ?</th>\n",
       "  </tr>\n",
       "  <tr>\n",
       "    <th>7</th>\n",
       "    <th>stopping till the swear jar 's full \" xxmaj you done called every woman a slut \" \" xxmaj but you 're forgetting xxmaj sarah , xxmaj marshall \" ( xxmaj palin ! ) xxmaj oh , my bad ... xxmaj slut xxmaj and next time i show to in court i 'll be naked and just wear a lawsuit xxmaj judge be like \" xxmaj that 's sharp ,</th>\n",
       "  </tr>\n",
       "  <tr>\n",
       "    <th>8</th>\n",
       "    <th>, i got another one i just love condoms and xxunk of cum , no ? xxmaj oh , shit . < / p > ] xxbos xxmaj whatever xxmaj dre , just let it run xxmaj hey yo turn the beat up a little bit xxmaj hey yo ... this song is for anyone ... fuck it ... xxmaj just shut up and listen , xxmaj hey yo xxmaj</th>\n",
       "  </tr>\n",
       "  <tr>\n",
       "    <th>9</th>\n",
       "    <th>it gets the hose again i cut and i slash slice and xxunk xxmaj last night was a blast i ca n't quite remember when i had that xxmaj much fun off a half - xxunk of a xxmaj jack xxmaj my last xxunk and a half , a flashlight up xxmaj kim xxmaj kardashian 's ass , i remember the first time i dismembered a family member , xxmaj</th>\n",
       "  </tr>\n",
       "</table>\n"
      ],
      "text/plain": [
       "<IPython.core.display.HTML object>"
      ]
     },
     "metadata": {},
     "output_type": "display_data"
    }
   ],
   "source": [
    "data_lm.show_batch(rows=10)"
   ]
  },
  {
   "cell_type": "code",
   "execution_count": 12,
   "metadata": {},
   "outputs": [
    {
     "data": {
      "text/plain": [
       "['xxunk',\n",
       " 'xxpad',\n",
       " 'xxbos',\n",
       " 'xxfld',\n",
       " 'xxmaj',\n",
       " 'xxup',\n",
       " 'xxrep',\n",
       " 'xxwrep',\n",
       " ',',\n",
       " 'i',\n",
       " 'you',\n",
       " 'the',\n",
       " 'and',\n",
       " 'a',\n",
       " 'to',\n",
       " 'it',\n",
       " \"'s\",\n",
       " \"n't\",\n",
       " 'me',\n",
       " 'my']"
      ]
     },
     "execution_count": 12,
     "metadata": {},
     "output_type": "execute_result"
    }
   ],
   "source": [
    "data_lm.vocab.itos[:20]"
   ]
  },
  {
   "cell_type": "code",
   "execution_count": 13,
   "metadata": {},
   "outputs": [],
   "source": [
    "learn = language_model_learner(data_lm, pretrained_model=URLs.WT103, drop_mult=0.30)"
   ]
  },
  {
   "cell_type": "code",
   "execution_count": 14,
   "metadata": {},
   "outputs": [
    {
     "name": "stdout",
     "output_type": "stream",
     "text": [
      "LR Finder is complete, type {learner_name}.recorder.plot() to see the graph.\n"
     ]
    }
   ],
   "source": [
    "learn.lr_find()"
   ]
  },
  {
   "cell_type": "code",
   "execution_count": 15,
   "metadata": {},
   "outputs": [
    {
     "data": {
      "image/png": "[encoded data removed]",
      "text/plain": [
       "<Figure size 432x288 with 1 Axes>"
      ]
     },
     "metadata": {
      "needs_background": "light"
     },
     "output_type": "display_data"
    }
   ],
   "source": [
    "learn.recorder.plot(skip_end=15)"
   ]
  },
  {
   "cell_type": "code",
   "execution_count": 16,
   "metadata": {},
   "outputs": [
    {
     "data": {
      "text/html": [
       "Total time: 01:16 <p><table style='width:300px; margin-bottom:10px'>\n",
       "  <tr>\n",
       "    <th>epoch</th>\n",
       "    <th>train_loss</th>\n",
       "    <th>valid_loss</th>\n",
       "    <th>accuracy</th>\n",
       "  </tr>\n",
       "  <tr>\n",
       "    <th>1</th>\n",
       "    <th>6.168016</th>\n",
       "    <th>5.414523</th>\n",
       "    <th>0.162191</th>\n",
       "  </tr>\n",
       "  <tr>\n",
       "    <th>2</th>\n",
       "    <th>4.951463</th>\n",
       "    <th>4.272429</th>\n",
       "    <th>0.229217</th>\n",
       "  </tr>\n",
       "  <tr>\n",
       "    <th>3</th>\n",
       "    <th>4.332076</th>\n",
       "    <th>3.878455</th>\n",
       "    <th>0.278747</th>\n",
       "  </tr>\n",
       "  <tr>\n",
       "    <th>4</th>\n",
       "    <th>3.967684</th>\n",
       "    <th>3.651245</th>\n",
       "    <th>0.308692</th>\n",
       "  </tr>\n",
       "  <tr>\n",
       "    <th>5</th>\n",
       "    <th>3.687382</th>\n",
       "    <th>3.487201</th>\n",
       "    <th>0.334828</th>\n",
       "  </tr>\n",
       "  <tr>\n",
       "    <th>6</th>\n",
       "    <th>3.515871</th>\n",
       "    <th>3.400231</th>\n",
       "    <th>0.348364</th>\n",
       "  </tr>\n",
       "  <tr>\n",
       "    <th>7</th>\n",
       "    <th>3.363839</th>\n",
       "    <th>3.339908</th>\n",
       "    <th>0.359288</th>\n",
       "  </tr>\n",
       "  <tr>\n",
       "    <th>8</th>\n",
       "    <th>3.277146</th>\n",
       "    <th>3.298418</th>\n",
       "    <th>0.365055</th>\n",
       "  </tr>\n",
       "  <tr>\n",
       "    <th>9</th>\n",
       "    <th>3.249431</th>\n",
       "    <th>3.274559</th>\n",
       "    <th>0.369037</th>\n",
       "  </tr>\n",
       "  <tr>\n",
       "    <th>10</th>\n",
       "    <th>3.186378</th>\n",
       "    <th>3.283056</th>\n",
       "    <th>0.367775</th>\n",
       "  </tr>\n",
       "</table>\n"
      ],
      "text/plain": [
       "<IPython.core.display.HTML object>"
      ]
     },
     "metadata": {},
     "output_type": "display_data"
    }
   ],
   "source": [
    "learn.fit_one_cycle(10, 1e-2, moms=(0.8,0.7))"
   ]
  },
  {
   "cell_type": "code",
   "execution_count": 17,
   "metadata": {},
   "outputs": [],
   "source": [
    "learn.save('s2_eminem_head')"
   ]
  },
  {
   "cell_type": "code",
   "execution_count": 18,
   "metadata": {},
   "outputs": [
    {
     "data": {
      "text/html": [
       "Total time: 01:16 <p><table style='width:300px; margin-bottom:10px'>\n",
       "  <tr>\n",
       "    <th>epoch</th>\n",
       "    <th>train_loss</th>\n",
       "    <th>valid_loss</th>\n",
       "    <th>accuracy</th>\n",
       "  </tr>\n",
       "  <tr>\n",
       "    <th>1</th>\n",
       "    <th>3.168016</th>\n",
       "    <th>3.271283</th>\n",
       "    <th>0.370386</th>\n",
       "  </tr>\n",
       "  <tr>\n",
       "    <th>2</th>\n",
       "    <th>3.195764</th>\n",
       "    <th>3.250198</th>\n",
       "    <th>0.373781</th>\n",
       "  </tr>\n",
       "  <tr>\n",
       "    <th>3</th>\n",
       "    <th>3.186472</th>\n",
       "    <th>3.208877</th>\n",
       "    <th>0.380527</th>\n",
       "  </tr>\n",
       "  <tr>\n",
       "    <th>4</th>\n",
       "    <th>3.131264</th>\n",
       "    <th>3.175316</th>\n",
       "    <th>0.392344</th>\n",
       "  </tr>\n",
       "  <tr>\n",
       "    <th>5</th>\n",
       "    <th>3.040563</th>\n",
       "    <th>3.128299</th>\n",
       "    <th>0.397662</th>\n",
       "  </tr>\n",
       "  <tr>\n",
       "    <th>6</th>\n",
       "    <th>2.990458</th>\n",
       "    <th>3.100334</th>\n",
       "    <th>0.406556</th>\n",
       "  </tr>\n",
       "  <tr>\n",
       "    <th>7</th>\n",
       "    <th>2.894780</th>\n",
       "    <th>3.071629</th>\n",
       "    <th>0.411712</th>\n",
       "  </tr>\n",
       "  <tr>\n",
       "    <th>8</th>\n",
       "    <th>2.865375</th>\n",
       "    <th>3.054319</th>\n",
       "    <th>0.416130</th>\n",
       "  </tr>\n",
       "  <tr>\n",
       "    <th>9</th>\n",
       "    <th>2.818023</th>\n",
       "    <th>3.042675</th>\n",
       "    <th>0.418393</th>\n",
       "  </tr>\n",
       "  <tr>\n",
       "    <th>10</th>\n",
       "    <th>2.765895</th>\n",
       "    <th>3.039871</th>\n",
       "    <th>0.418872</th>\n",
       "  </tr>\n",
       "</table>\n"
      ],
      "text/plain": [
       "<IPython.core.display.HTML object>"
      ]
     },
     "metadata": {},
     "output_type": "display_data"
    }
   ],
   "source": [
    "learn.fit_one_cycle(10, 1e-2, moms=(0.8,0.7))"
   ]
  },
  {
   "cell_type": "code",
   "execution_count": 19,
   "metadata": {},
   "outputs": [],
   "source": [
    "learn.save('s2_eminem_head_v2')"
   ]
  },
  {
   "cell_type": "code",
   "execution_count": 20,
   "metadata": {},
   "outputs": [
    {
     "data": {
      "text/html": [
       "Total time: 02:33 <p><table style='width:300px; margin-bottom:10px'>\n",
       "  <tr>\n",
       "    <th>epoch</th>\n",
       "    <th>train_loss</th>\n",
       "    <th>valid_loss</th>\n",
       "    <th>accuracy</th>\n",
       "  </tr>\n",
       "  <tr>\n",
       "    <th>1</th>\n",
       "    <th>2.753778</th>\n",
       "    <th>3.038515</th>\n",
       "    <th>0.419634</th>\n",
       "  </tr>\n",
       "  <tr>\n",
       "    <th>2</th>\n",
       "    <th>2.806273</th>\n",
       "    <th>3.029356</th>\n",
       "    <th>0.420765</th>\n",
       "  </tr>\n",
       "  <tr>\n",
       "    <th>3</th>\n",
       "    <th>2.810372</th>\n",
       "    <th>3.034380</th>\n",
       "    <th>0.420591</th>\n",
       "  </tr>\n",
       "  <tr>\n",
       "    <th>4</th>\n",
       "    <th>2.836353</th>\n",
       "    <th>3.033292</th>\n",
       "    <th>0.421309</th>\n",
       "  </tr>\n",
       "  <tr>\n",
       "    <th>5</th>\n",
       "    <th>2.810347</th>\n",
       "    <th>3.022150</th>\n",
       "    <th>0.425770</th>\n",
       "  </tr>\n",
       "  <tr>\n",
       "    <th>6</th>\n",
       "    <th>2.813365</th>\n",
       "    <th>3.013939</th>\n",
       "    <th>0.426358</th>\n",
       "  </tr>\n",
       "  <tr>\n",
       "    <th>7</th>\n",
       "    <th>2.790889</th>\n",
       "    <th>3.017534</th>\n",
       "    <th>0.428034</th>\n",
       "  </tr>\n",
       "  <tr>\n",
       "    <th>8</th>\n",
       "    <th>2.755814</th>\n",
       "    <th>2.985799</th>\n",
       "    <th>0.431058</th>\n",
       "  </tr>\n",
       "  <tr>\n",
       "    <th>9</th>\n",
       "    <th>2.706862</th>\n",
       "    <th>2.966313</th>\n",
       "    <th>0.439654</th>\n",
       "  </tr>\n",
       "  <tr>\n",
       "    <th>10</th>\n",
       "    <th>2.697495</th>\n",
       "    <th>2.958488</th>\n",
       "    <th>0.440787</th>\n",
       "  </tr>\n",
       "  <tr>\n",
       "    <th>11</th>\n",
       "    <th>2.637446</th>\n",
       "    <th>2.938295</th>\n",
       "    <th>0.445269</th>\n",
       "  </tr>\n",
       "  <tr>\n",
       "    <th>12</th>\n",
       "    <th>2.572873</th>\n",
       "    <th>2.931962</th>\n",
       "    <th>0.448695</th>\n",
       "  </tr>\n",
       "  <tr>\n",
       "    <th>13</th>\n",
       "    <th>2.570320</th>\n",
       "    <th>2.917992</th>\n",
       "    <th>0.452124</th>\n",
       "  </tr>\n",
       "  <tr>\n",
       "    <th>14</th>\n",
       "    <th>2.533297</th>\n",
       "    <th>2.905384</th>\n",
       "    <th>0.454061</th>\n",
       "  </tr>\n",
       "  <tr>\n",
       "    <th>15</th>\n",
       "    <th>2.521763</th>\n",
       "    <th>2.893793</th>\n",
       "    <th>0.458065</th>\n",
       "  </tr>\n",
       "  <tr>\n",
       "    <th>16</th>\n",
       "    <th>2.482710</th>\n",
       "    <th>2.886208</th>\n",
       "    <th>0.460067</th>\n",
       "  </tr>\n",
       "  <tr>\n",
       "    <th>17</th>\n",
       "    <th>2.455184</th>\n",
       "    <th>2.881838</th>\n",
       "    <th>0.460850</th>\n",
       "  </tr>\n",
       "  <tr>\n",
       "    <th>18</th>\n",
       "    <th>2.458044</th>\n",
       "    <th>2.877439</th>\n",
       "    <th>0.461177</th>\n",
       "  </tr>\n",
       "  <tr>\n",
       "    <th>19</th>\n",
       "    <th>2.428535</th>\n",
       "    <th>2.879783</th>\n",
       "    <th>0.461982</th>\n",
       "  </tr>\n",
       "  <tr>\n",
       "    <th>20</th>\n",
       "    <th>2.402639</th>\n",
       "    <th>2.885158</th>\n",
       "    <th>0.461329</th>\n",
       "  </tr>\n",
       "</table>\n"
      ],
      "text/plain": [
       "<IPython.core.display.HTML object>"
      ]
     },
     "metadata": {},
     "output_type": "display_data"
    }
   ],
   "source": [
    "learn.fit_one_cycle(20, 1e-2, moms=(0.8,0.7))"
   ]
  },
  {
   "cell_type": "code",
   "execution_count": 21,
   "metadata": {},
   "outputs": [],
   "source": [
    "learn.save('s2_eminem_head_v3')"
   ]
  },
  {
   "cell_type": "code",
   "execution_count": 22,
   "metadata": {},
   "outputs": [
    {
     "data": {
      "text/html": [
       "Total time: 06:21 <p><table style='width:300px; margin-bottom:10px'>\n",
       "  <tr>\n",
       "    <th>epoch</th>\n",
       "    <th>train_loss</th>\n",
       "    <th>valid_loss</th>\n",
       "    <th>accuracy</th>\n",
       "  </tr>\n",
       "  <tr>\n",
       "    <th>1</th>\n",
       "    <th>2.430712</th>\n",
       "    <th>2.882525</th>\n",
       "    <th>0.460959</th>\n",
       "  </tr>\n",
       "  <tr>\n",
       "    <th>2</th>\n",
       "    <th>2.421428</th>\n",
       "    <th>2.875690</th>\n",
       "    <th>0.462744</th>\n",
       "  </tr>\n",
       "  <tr>\n",
       "    <th>3</th>\n",
       "    <th>2.440233</th>\n",
       "    <th>2.871763</th>\n",
       "    <th>0.462853</th>\n",
       "  </tr>\n",
       "  <tr>\n",
       "    <th>4</th>\n",
       "    <th>2.426104</th>\n",
       "    <th>2.879982</th>\n",
       "    <th>0.462744</th>\n",
       "  </tr>\n",
       "  <tr>\n",
       "    <th>5</th>\n",
       "    <th>2.395134</th>\n",
       "    <th>2.871165</th>\n",
       "    <th>0.464855</th>\n",
       "  </tr>\n",
       "  <tr>\n",
       "    <th>6</th>\n",
       "    <th>2.418656</th>\n",
       "    <th>2.877712</th>\n",
       "    <th>0.464855</th>\n",
       "  </tr>\n",
       "  <tr>\n",
       "    <th>7</th>\n",
       "    <th>2.448892</th>\n",
       "    <th>2.874285</th>\n",
       "    <th>0.465486</th>\n",
       "  </tr>\n",
       "  <tr>\n",
       "    <th>8</th>\n",
       "    <th>2.494904</th>\n",
       "    <th>2.873543</th>\n",
       "    <th>0.464963</th>\n",
       "  </tr>\n",
       "  <tr>\n",
       "    <th>9</th>\n",
       "    <th>2.484358</th>\n",
       "    <th>2.872358</th>\n",
       "    <th>0.466113</th>\n",
       "  </tr>\n",
       "  <tr>\n",
       "    <th>10</th>\n",
       "    <th>2.429181</th>\n",
       "    <th>2.877997</th>\n",
       "    <th>0.464768</th>\n",
       "  </tr>\n",
       "  <tr>\n",
       "    <th>11</th>\n",
       "    <th>2.464392</th>\n",
       "    <th>2.881921</th>\n",
       "    <th>0.464942</th>\n",
       "  </tr>\n",
       "  <tr>\n",
       "    <th>12</th>\n",
       "    <th>2.485144</th>\n",
       "    <th>2.876418</th>\n",
       "    <th>0.465921</th>\n",
       "  </tr>\n",
       "  <tr>\n",
       "    <th>13</th>\n",
       "    <th>2.485412</th>\n",
       "    <th>2.876085</th>\n",
       "    <th>0.466596</th>\n",
       "  </tr>\n",
       "  <tr>\n",
       "    <th>14</th>\n",
       "    <th>2.454550</th>\n",
       "    <th>2.878790</th>\n",
       "    <th>0.465899</th>\n",
       "  </tr>\n",
       "  <tr>\n",
       "    <th>15</th>\n",
       "    <th>2.458246</th>\n",
       "    <th>2.878839</th>\n",
       "    <th>0.467357</th>\n",
       "  </tr>\n",
       "  <tr>\n",
       "    <th>16</th>\n",
       "    <th>2.455637</th>\n",
       "    <th>2.878395</th>\n",
       "    <th>0.467140</th>\n",
       "  </tr>\n",
       "  <tr>\n",
       "    <th>17</th>\n",
       "    <th>2.453744</th>\n",
       "    <th>2.863360</th>\n",
       "    <th>0.469088</th>\n",
       "  </tr>\n",
       "  <tr>\n",
       "    <th>18</th>\n",
       "    <th>2.445249</th>\n",
       "    <th>2.869080</th>\n",
       "    <th>0.469413</th>\n",
       "  </tr>\n",
       "  <tr>\n",
       "    <th>19</th>\n",
       "    <th>2.420385</th>\n",
       "    <th>2.871684</th>\n",
       "    <th>0.469120</th>\n",
       "  </tr>\n",
       "  <tr>\n",
       "    <th>20</th>\n",
       "    <th>2.405044</th>\n",
       "    <th>2.860811</th>\n",
       "    <th>0.471601</th>\n",
       "  </tr>\n",
       "  <tr>\n",
       "    <th>21</th>\n",
       "    <th>2.434695</th>\n",
       "    <th>2.859926</th>\n",
       "    <th>0.474089</th>\n",
       "  </tr>\n",
       "  <tr>\n",
       "    <th>22</th>\n",
       "    <th>2.405839</th>\n",
       "    <th>2.851754</th>\n",
       "    <th>0.475213</th>\n",
       "  </tr>\n",
       "  <tr>\n",
       "    <th>23</th>\n",
       "    <th>2.382190</th>\n",
       "    <th>2.851685</th>\n",
       "    <th>0.476758</th>\n",
       "  </tr>\n",
       "  <tr>\n",
       "    <th>24</th>\n",
       "    <th>2.351122</th>\n",
       "    <th>2.850122</th>\n",
       "    <th>0.478085</th>\n",
       "  </tr>\n",
       "  <tr>\n",
       "    <th>25</th>\n",
       "    <th>2.361431</th>\n",
       "    <th>2.849794</th>\n",
       "    <th>0.477933</th>\n",
       "  </tr>\n",
       "  <tr>\n",
       "    <th>26</th>\n",
       "    <th>2.339584</th>\n",
       "    <th>2.839794</th>\n",
       "    <th>0.480763</th>\n",
       "  </tr>\n",
       "  <tr>\n",
       "    <th>27</th>\n",
       "    <th>2.322821</th>\n",
       "    <th>2.840020</th>\n",
       "    <th>0.479566</th>\n",
       "  </tr>\n",
       "  <tr>\n",
       "    <th>28</th>\n",
       "    <th>2.315512</th>\n",
       "    <th>2.826216</th>\n",
       "    <th>0.484701</th>\n",
       "  </tr>\n",
       "  <tr>\n",
       "    <th>29</th>\n",
       "    <th>2.303426</th>\n",
       "    <th>2.828004</th>\n",
       "    <th>0.483874</th>\n",
       "  </tr>\n",
       "  <tr>\n",
       "    <th>30</th>\n",
       "    <th>2.287442</th>\n",
       "    <th>2.828858</th>\n",
       "    <th>0.483396</th>\n",
       "  </tr>\n",
       "  <tr>\n",
       "    <th>31</th>\n",
       "    <th>2.289964</th>\n",
       "    <th>2.819837</th>\n",
       "    <th>0.486094</th>\n",
       "  </tr>\n",
       "  <tr>\n",
       "    <th>32</th>\n",
       "    <th>2.262320</th>\n",
       "    <th>2.822706</th>\n",
       "    <th>0.486334</th>\n",
       "  </tr>\n",
       "  <tr>\n",
       "    <th>33</th>\n",
       "    <th>2.253271</th>\n",
       "    <th>2.812840</th>\n",
       "    <th>0.489163</th>\n",
       "  </tr>\n",
       "  <tr>\n",
       "    <th>34</th>\n",
       "    <th>2.262067</th>\n",
       "    <th>2.813175</th>\n",
       "    <th>0.489380</th>\n",
       "  </tr>\n",
       "  <tr>\n",
       "    <th>35</th>\n",
       "    <th>2.245758</th>\n",
       "    <th>2.804038</th>\n",
       "    <th>0.490447</th>\n",
       "  </tr>\n",
       "  <tr>\n",
       "    <th>36</th>\n",
       "    <th>2.199115</th>\n",
       "    <th>2.798656</th>\n",
       "    <th>0.491459</th>\n",
       "  </tr>\n",
       "  <tr>\n",
       "    <th>37</th>\n",
       "    <th>2.194196</th>\n",
       "    <th>2.799290</th>\n",
       "    <th>0.491992</th>\n",
       "  </tr>\n",
       "  <tr>\n",
       "    <th>38</th>\n",
       "    <th>2.154453</th>\n",
       "    <th>2.790208</th>\n",
       "    <th>0.492383</th>\n",
       "  </tr>\n",
       "  <tr>\n",
       "    <th>39</th>\n",
       "    <th>2.185349</th>\n",
       "    <th>2.795316</th>\n",
       "    <th>0.493773</th>\n",
       "  </tr>\n",
       "  <tr>\n",
       "    <th>40</th>\n",
       "    <th>2.194680</th>\n",
       "    <th>2.792522</th>\n",
       "    <th>0.493471</th>\n",
       "  </tr>\n",
       "  <tr>\n",
       "    <th>41</th>\n",
       "    <th>2.180738</th>\n",
       "    <th>2.793994</th>\n",
       "    <th>0.493885</th>\n",
       "  </tr>\n",
       "  <tr>\n",
       "    <th>42</th>\n",
       "    <th>2.148824</th>\n",
       "    <th>2.787835</th>\n",
       "    <th>0.494822</th>\n",
       "  </tr>\n",
       "  <tr>\n",
       "    <th>43</th>\n",
       "    <th>2.148010</th>\n",
       "    <th>2.782791</th>\n",
       "    <th>0.495025</th>\n",
       "  </tr>\n",
       "  <tr>\n",
       "    <th>44</th>\n",
       "    <th>2.150397</th>\n",
       "    <th>2.792765</th>\n",
       "    <th>0.495147</th>\n",
       "  </tr>\n",
       "  <tr>\n",
       "    <th>45</th>\n",
       "    <th>2.148758</th>\n",
       "    <th>2.788986</th>\n",
       "    <th>0.494625</th>\n",
       "  </tr>\n",
       "  <tr>\n",
       "    <th>46</th>\n",
       "    <th>2.137669</th>\n",
       "    <th>2.790772</th>\n",
       "    <th>0.495191</th>\n",
       "  </tr>\n",
       "  <tr>\n",
       "    <th>47</th>\n",
       "    <th>2.108138</th>\n",
       "    <th>2.786087</th>\n",
       "    <th>0.495887</th>\n",
       "  </tr>\n",
       "  <tr>\n",
       "    <th>48</th>\n",
       "    <th>2.123082</th>\n",
       "    <th>2.789829</th>\n",
       "    <th>0.496083</th>\n",
       "  </tr>\n",
       "  <tr>\n",
       "    <th>49</th>\n",
       "    <th>2.144755</th>\n",
       "    <th>2.789787</th>\n",
       "    <th>0.495169</th>\n",
       "  </tr>\n",
       "  <tr>\n",
       "    <th>50</th>\n",
       "    <th>2.120492</th>\n",
       "    <th>2.796465</th>\n",
       "    <th>0.495191</th>\n",
       "  </tr>\n",
       "</table>\n"
      ],
      "text/plain": [
       "<IPython.core.display.HTML object>"
      ]
     },
     "metadata": {},
     "output_type": "display_data"
    }
   ],
   "source": [
    "learn.fit_one_cycle(50, 1e-2, moms=(0.8,0.7))"
   ]
  },
  {
   "cell_type": "code",
   "execution_count": 23,
   "metadata": {},
   "outputs": [],
   "source": [
    "learn.save('s2_eminem_head_v4')"
   ]
  },
  {
   "cell_type": "code",
   "execution_count": 24,
   "metadata": {},
   "outputs": [],
   "source": [
    "learn.load('s2_eminem_head_v4');"
   ]
  },
  {
   "cell_type": "code",
   "execution_count": 25,
   "metadata": {},
   "outputs": [],
   "source": [
    "learn.unfreeze()"
   ]
  },
  {
   "cell_type": "code",
   "execution_count": 26,
   "metadata": {},
   "outputs": [
    {
     "data": {
      "text/html": [
       "Total time: 00:46 <p><table style='width:300px; margin-bottom:10px'>\n",
       "  <tr>\n",
       "    <th>epoch</th>\n",
       "    <th>train_loss</th>\n",
       "    <th>valid_loss</th>\n",
       "    <th>accuracy</th>\n",
       "  </tr>\n",
       "  <tr>\n",
       "    <th>1</th>\n",
       "    <th>2.112395</th>\n",
       "    <th>2.757772</th>\n",
       "    <th>0.503199</th>\n",
       "  </tr>\n",
       "  <tr>\n",
       "    <th>2</th>\n",
       "    <th>2.025754</th>\n",
       "    <th>2.665951</th>\n",
       "    <th>0.523503</th>\n",
       "  </tr>\n",
       "  <tr>\n",
       "    <th>3</th>\n",
       "    <th>1.865755</th>\n",
       "    <th>2.622195</th>\n",
       "    <th>0.538257</th>\n",
       "  </tr>\n",
       "  <tr>\n",
       "    <th>4</th>\n",
       "    <th>1.763152</th>\n",
       "    <th>2.600181</th>\n",
       "    <th>0.546962</th>\n",
       "  </tr>\n",
       "  <tr>\n",
       "    <th>5</th>\n",
       "    <th>1.680473</th>\n",
       "    <th>2.598236</th>\n",
       "    <th>0.548357</th>\n",
       "  </tr>\n",
       "</table>\n"
      ],
      "text/plain": [
       "<IPython.core.display.HTML object>"
      ]
     },
     "metadata": {},
     "output_type": "display_data"
    }
   ],
   "source": [
    "learn.fit_one_cycle(5, 1e-3, moms=(0.8,0.7))"
   ]
  },
  {
   "cell_type": "code",
   "execution_count": 27,
   "metadata": {},
   "outputs": [],
   "source": [
    "learn.save('s2_eminem_fine_tuned_v1')"
   ]
  },
  {
   "cell_type": "code",
   "execution_count": 28,
   "metadata": {},
   "outputs": [
    {
     "data": {
      "text/plain": [
       "LanguageLearner(data=TextLMDataBunch;\n",
       "\n",
       "Train: LabelList\n",
       "y: LMLabel (450 items)\n",
       "[Category 0, Category 0, Category 0, Category 0, Category 0]...\n",
       "Path: ../../../data/eminem\n",
       "x: LMTextList (450 items)\n",
       "[Text xxbos xxmaj eminem ] xxmaj peace to xxmaj xxunk xxmaj xxunk , xxup xxunk and xxmaj xxunk xxmaj my mother smoked crack , i had a premature birth i 'm just a xxunk cursed , wit badly xxunk nerves xxmaj who wanna be the one to step up and get served first ? xxmaj ninety - nine percent of aliens prefer earth xxmaj so i 'm here to rule the planet , startin wit your turf i hid a secret message inside of a xxunk xxmaj wit xxunk letters , runnin together in blurred xxunk i hang wit male chauvinist pigs and xxunk xxmaj who point water pistols at women and xxunk shirts xxmaj been a bad boy since diapers and xxmaj xxunk 's xxmaj my first words were \" xxmaj bleep bleep \" and \" xxmaj curse curse \" xxmaj never had ish , and i still do n't deserve dirt xxmaj my breath still stinks and i 'm on my third xxmaj xxunk xxmaj xxunk out my stitches , hollering \" xxmaj nurse nurse ! \" \" xxmaj you said this shot would numb it , trick it just hurts worse ! \" xxmaj grew up in a dump next door to a burnt church xxmaj but gunshots drowned out crickets and bird xxunk xxmaj and it 's like that , and it 's like that xxmaj evidence ] xxmaj got no xxunk xxmaj yo i xxmaj xxunk my xxunk , mix words in xxunk xxmaj evidence , i wo n't get caught shot on the balcony xxmaj between you and i , i 'll tell you here 's the xxunk xxmaj gun to your head , you 're dead , xxunk i xxunk xxmaj that 's right , to dear / xxunk , xxunk , or xxunk xxmaj in life , use your xxunk , or xxmaj steve xxmaj xxunk i 'm about to call it quits , yo too much xxunk break your rack xxunk xxmaj the xxunk make you move , yo so make your move a xxunk xxmaj you say i use my name too much as a clutch xxmaj try holdin on to beat instead of pushin on your crutch xxmaj flipped it backwards , xxmaj evidence attack xxunk off the head xxmaj xxunk , right or left , do n't matter see you comin xxmaj deaf / xxmaj def like xxmaj xxunk , pop the piece , i be the xxunk xxmaj causin the herd , the name is xxmaj xxunk absurd xxmaj verbs get flipped , it 's like this , yo xxunk and all that xxmaj xxunk xxunk , you claimin metaphors and spittin xxunk xxmaj not havin xxmaj it , the name is xxmaj evidence xxmaj like xxmaj xxunk . k xxunk the life thinkin of xxunk it xxmaj skills xxunk you possess , take no xxunk xxmaj but do n't xxunk lies within your mind , tempt and stress xxmaj iriscience ] xxmaj it 's like uh - oh - oh xxmaj it 's xxmaj dilated xxmaj xxunk on the xxmaj wake xxmaj up xxmaj show - uh - oh xxmaj we kick a lick or some for the radio - uh - oh xxmaj yo xxunk like xxmaj xxunk * fades out * < / p > ], Text xxbos i xxunk you ai n't familiar with these here parts xxmaj you know , there 's a story behind that there saloon xxmaj twenty years ago , two xxunk took this whole town over xxmaj xxunk could n't stop 'em , xxunk damn gun xxunk i 've ever seen xxmaj got murdered in cold blood , that ol' saloon there was their lil ' home xxmaj away from home , they say the xxunk of bad and evil still live xxmaj in that xxunk and on a quiet night , you can still hear the footsteps of xxmaj slim xxmaj shady and xxmaj royce xxmaj da xxmaj five - xxmaj nine i do n't speak , i float in the air wrapped in a sheet i 'm not a real person , i 'm a ghost trapped in a beat i xxunk when my voice is read through a xxunk xxmaj and a noise is xxunk , picked up and xxunk through xxmaj royce 's head xxmaj trapped him in his room , possessed him and xxunk his bed xxmaj till the xxunk flows through his blood like xxunk lead xxmaj told him each one of his boys is dead i asked him to come to the dark side , he made a choice and said xxmaj who hard ? yo i done heard worse xxmaj we can get in two cars and xxunk at each other xxmaj to see which xxunk xxunk first xxmaj two blind xxunk panic , whose mental xxunk holds xxmaj that of a xxunk on top of nine other planets xxmaj kissed the cheek of the devil , xxunk level is xxunk than xxmaj xxunk xxunk ' on xxunk in the ghetto xxmaj xxunk , i 'm not a fair man , xxunk the race of a atheist xxmaj xxunk missiles wit my bare hands like a xxunk xxmaj one track sliced without swords , i buried the xxmaj christ corpse xxmaj in my past life when the black xxunk xxunk the white horse xxmaj and stay over - worked , its like the xxmaj xxunk in the xxunk xxmaj xxunk , xxunk ' to take over the earth 'cuz this is what happens when bad meets evil xxmaj we hit the trees till we look like xxmaj xxunk people xxmaj he 's evil , and i 'm bad like xxmaj steve xxmaj xxunk xxmaj above the law 'cuz i do n't agree wit police either xxmaj we ai n't eager to be legal xxmaj so please leave me with the keys to your jeep eagle i breathe ether in three amounts xxmaj when i stab myself in the knee with a xxunk needle xxmaj releasin ' rage on anybody in squeezing range xxmaj cold enough to make the xxunk change into freezing rain xxmaj he 's insane , no i 'm not , i just want to shoot up xxmaj and i 'm pissed off 'cuz i ca n't find a xxunk vain xxmaj the disaster wit dreads i 'm bad enough to commit suicide and survive long enough xxmaj to kill my soul after i 'm dead xxmaj when in danger it 's funny actually my flavor 's similar to a waiter 'cuz i serve any stranger with money i spray a hundred , man until they joint chains xxmaj while slippin ' bullets at point blank range like they was punches xxmaj piss on a flag and burn it , murder you then come to your funeral xxmaj serve this xxunk , strangle your body then xxunk you xxmaj whippin ' human ass , throwin ' blows xxunk ' jaws xxmaj wit my xxunk wrapped in gauze , dipped in glue and glass i 'm blazin ' xxup mc 's , at the same time amazin ' xxup mc 's xxmaj somehow xxup mc 's ai n't that eye - xxunk raisin ' to me xxmaj from all of angles of us , flash a mack loud enough xxmaj to cast a xxunk and bust till xxunk erupt xxmaj hello ? xxmaj billy , aiyyo what 's up xxmaj we 're comin ' to get you xxmaj stop , they know it 's us i used to be a xxunk , remember me ? i 'm the one who burned your house down xxmaj well i 'm out now , and this time i 'm comin ' back to blow your house up xxmaj and i ai n't gone leave you a window to jump out of xxmaj give me two fat tabs and three shrooms xxmaj and you wo n't see me like fat people in steam rooms xxmaj and when i go to hell and i 'm gettin ready to leave i 'm a put air in a bag and charge people to breathe 'cuz this is what happens when bad meets evil xxmaj and we hit the trees till we look like xxmaj xxunk people xxmaj he 's xxmaj evil , and i 'm xxmaj bad like xxmaj steve xxmaj xxunk xxmaj against peaceful , see you in hell for the sequel xxmaj we 'll be waitin ' , xxmaj see you in hell xxmaj wall xxmaj street , xxmaj royce xxmaj da xxmaj five - xxmaj nine , xxmaj slim xxmaj shady xxmaj see you in hell for the sequel , bye bye xxmaj bad meets evil , what ? xxmaj till next time { xxmaj and so that 's the story when bad meets evil xxmaj two of the most wanted xxunk in the xxunk xxmaj made xxmaj xxunk xxmaj james and xxmaj billy the xxmaj kid look like law - xxunk xxunk xxmaj it 's too bad they had to go out the way they did xxmaj got shot in the back comin ' out of that ol' saloon xxmaj but their spirits still live on till this day xxmaj wait , did y' all hear that ? } < / p > ], Text xxbos xxmaj lately i 've been hard to reach i 've been too long on my own xxmaj everybody has their private world xxmaj where they can be alone xxmaj are you calling me ? xxmaj are you trying to get through ? xxmaj are you reaching out for me ? i 'm reaching out for you i 'm just so fucking depressed i just ca n't seem to get out this slump xxmaj if i could just get over this hump xxmaj but i need something to pull me out this dump i took my xxunk , took my xxunk xxmaj fell down and i got right back up xxmaj but i need that spark to get xxunk back up xxmaj and in order for me to pick the mic back up i do n't know how or why or when i ended up this position i 'm in i 'm starting to feel dissin ' again xxmaj so i decided just to pick this pen xxmaj up and try to make an attempt to vent xxmaj but i just ca n't admit xxmaj or come to xxunk with the fact that i may be done with rap i need a new outlet xxmaj and i know some shit 's so hard to swallow xxmaj but i ca n't just sit back and wallow xxmaj in my own sorrow but i know one fact i 'll be one tough act to follow xxmaj one tough act to follow i 'll be one tough act to follow xxmaj here today , gone tomorrow xxmaj but you 'd have to walk a thousand miles xxmaj in my shoes , just to see xxmaj what it 's like , to be me i 'll be you , let 's trade shoes xxmaj just to see what it 'd be like xxmaj to feel your pain , you feel mine xxmaj go inside each others ' minds xxmaj just to see what we 'd find xxmaj look at shit through each others ' eyes xxmaj do n't let 'em say you ai n't beautiful xxmaj they can all get fucked , just stay true to you xxmaj so do n't let 'em say you ai n't beautiful xxmaj they can all get fucked , just stay true to you i think i 'm starting to lose my sense of xxunk xxmaj everything 's so tense and xxunk i almost feel like i got ta check xxmaj the xxunk of the room xxmaj just as soon as i walk in , it 's like all eyes on me xxmaj and so i try to avoid any eye contact 'cause if i do that then it opens the door xxmaj for conversation , like i want that i 'm not looking for extra attention i just wanna be just like you xxmaj xxunk in with the rest of the room xxmaj maybe just point me to the closest xxunk i do n't need no fucking man xxunk xxmaj trying to follow me around and wipe my ass xxmaj laugh at every single joke i crack xxmaj and half of 'em ai n't even funny like xxmaj ha ! xxmaj marshall you 're so funny man xxmaj you should be a comedian , god damn ! \" xxmaj xxunk i am i just hide behind the tears of a clown xxmaj so why do n't you all sit down xxmaj listen to the xxunk i 'm about to tell xxmaj hell , we do n't got ta trade our shoes xxmaj and you ai n't got ta walk no thousand miles xxmaj in my shoes , just to see xxmaj what it 's like , to be me i 'll be you , let 's trade shoes xxmaj just to see what it 'd be like xxmaj to feel your pain , you feel mine xxmaj go inside each others minds xxmaj just to see what we 'd find xxmaj look at shit through each others eyes xxmaj do n't let 'em say you ai n't beautiful xxmaj they can all get fucked , just stay true to you xxmaj so do n't let 'em say you ai n't beautiful xxmaj they can all get fucked , just stay true to you xxmaj nobody asked for life to deal us xxmaj with these bullshit hands we 're dealt xxmaj we got ta take these cards ourselves xxmaj and flip 'em , do n't expect no help xxmaj now i could 've either just sat on my ass xxmaj and pissed and xxunk xxmaj or take this situation in which i 'm placed in xxmaj and get up and get my own i was never the type of kid xxmaj to wait by the door and pack his bags i sat on the porch and xxunk and prayed xxmaj for a dad to show up who never did i just wanted to fit in xxmaj every single place , every school i went i xxunk of being that cool kid xxmaj even if it meant acting stupid xxmaj and xxmaj edna always told me xxmaj keep making that face and it 'll get stuck like that xxmaj meanwhile i 'm just standing there xxmaj holding my tongue tryna talk like that ' xxmaj til i stuck my tongue on that frozen stop sign pole xxmaj at 8 years old i learned my lesson then 'cause i was n't trying to xxunk my friends no more xxmaj but i already told you my whole life story xxmaj not just based on my description 'cause where you see it , from where you 're sittin xxmaj it 's probably xxunk % different i guess we would have to walk a mile xxmaj in each others shoes at least xxmaj what size you wear ? i wear 10 's xxmaj let 's see if you can fit your feet xxmaj in my shoes , just to see xxmaj what it 's like , to be me i 'll be you , let 's trade shoes xxmaj just to see what it 'd be like xxmaj to feel your pain , you feel mine xxmaj go inside each others minds xxmaj just to see what we 'd find xxmaj look at shit through each others eyes xxmaj do n't let 'em say you ai n't beautiful xxmaj they can all get fucked just stay true to you xxmaj so do n't let 'em say you ai n't beautiful xxmaj they can all get fucked just stay true to you xxmaj so do n't let 'em say you ai n't beautiful xxmaj they can all get fucked just stay true to you xxmaj so xxmaj lately i 've been hard to reach i 've been too long on my own xxmaj everybody has their private world xxmaj where they can be alone xxmaj are you calling me ? xxmaj are you trying to get through ? xxmaj are you reaching out for me ? i 'm reaching out for you xxmaj yeah , to my babies xxmaj stay strong , daddy will be home soon xxmaj and to the rest of the world xxmaj god gave you shoes to fit you xxmaj so put 'em on and wear 'em xxmaj be yourself man , be proud of who you are xxmaj even if it sounds corny xxmaj do n't ever let anyone tell you you ai n't beautiful < / p > ], Text xxbos xxmaj eminem xxmaj miscellaneous b - xxmaj rabbit xxmaj vs . xxmaj papa xxmaj doc ( xxmaj freestyle xxmaj from 8 xxmaj mile ) xxmaj now everybody from the 313 xxmaj put your mothefucking hands and follow me xxmaj everybody from the 313 xxmaj put your mothefucking hands up xxmaj look xxmaj look xxmaj now while he stands tough xxmaj notice that this man did not had his hands up xxmaj the free world got you gased up xxmaj now who 's afraid of the big bad wolf 1 , 2 , 3 and to the 4 1 pac , 2 pac , 3 pac , 4 4 pac , 3 pac , 2 pac , 1 xxmaj you 're pac , he 's pac , no pacs , none xxmaj this guy ai nt no mother - fuckin xxup mc , i know everything he 's got to say against me , i am white , i am a fuckin bum , i do live in a trailer with my mom , xxmaj my boy future is an uncle tom . i do got a dumb friend named xxmaj cheddar xxmaj bob who shoots himself in the leg with his own gun , i did get jumped by all 6 of you chumps xxmaj and xxmaj wink did fuck my girl , i 'm still standin here screamin \" xxup fuck xxup the xxup free xxup world ! \" xxmaj do n't ever try to judge me dude xxmaj you do n't know what the fuck i 've been through xxmaj but i know something about you xxmaj you went to xxmaj crankbook , that 's a private school xxmaj what 's the matter dawg ? xxmaj you embarrased ? xxmaj this is guy 's a gangster , he 's real name 's xxmaj clarence xxmaj and xxmaj clarence lives at home with both parents xxmaj and xxmaj clarence 's parents have a real good marriage xxmaj this guy do n't wanna battle , xxmaj he 's shook 'cause there no such things as half - way crooks xxmaj he 's scared to death xxmaj he 's scared to look in his fuckin yearbook , fuck xxmaj crankbook xxmaj fuck the beat , i go acapella xxmaj fuck a papa doc , fuck a clock , fuck a trailer , fuck everybody xxmaj fuck y' all if you doubt me i 'm a piece of fucking white trash , i say it proudly xxmaj and fuck this battle , i do n't wanna win , i 'm outty , xxmaj here , tell this people something they do nt know about me . < / p > ], Text xxbos xxmaj eminem xxmaj miscellaneous xxmaj eminem xxmaj exclusive xxmaj freestyle xxmaj yo ! xxmaj turn that click off … xxmaj my music is xxunk xxmaj but its also xxunk xxmaj that it can put you in the mood to jump out your car while it 's movin xxmaj you been waitin ' on this moment xxmaj my sermon is like a xxunk i 'm servin ' i 'm xxmaj xxunk xxmaj sermon i saw the window was open xxmaj and i jumped through it xxmaj my shit if you do n't get xxunk to it i quit , here 's my rhyme book xxmaj go ahead and thumb through it xxmaj and pick what you want from it xxmaj xxunk , and find something you can use to jump someone xxmaj and roll up bumpin i 'm constantly xxunk ' over you xxmaj xxunk ' , shit has gotten to the point xxmaj where i ai n't even writin ' no more , i 'm just xxunk ' xxmaj this is chicken scratch , shit is xxunk ' i 've been kickin ' ass off bullshit xxmaj xxunk rhymes , pick a xxunk i live for the love of rap , you crazy i ve made beats for xxmaj jay - z for free xxmaj page me , you need a beat , you xxmaj xxunk xxmaj then it 's xxmaj dre 's fee , you xxmaj kay xxmaj slay the xxunk xxunk i stay beefin ' with xxup jd , till the day xxmaj dre xxunk me xxmaj that it 's okay to stop blazin ' him xxmaj oops ! i put it out , i apologize now xxmaj it 's too late g , it 's on tape xxmaj and the tape xxunk , \" xxmaj say xxmaj what xxmaj you xxmaj say \" mothafucka xxmaj drama xxmaj king , xxmaj kay xxmaj slay , mothafucka , xxmaj we xxunk these xxunk mothafucka xxmaj xzibit blaze little gay midget xxunk < / p > ]]...\n",
       "Path: ../../../data/eminem;\n",
       "\n",
       "Valid: LabelList\n",
       "y: LMLabel (50 items)\n",
       "[Category 0, Category 0, Category 0, Category 0, Category 0]...\n",
       "Path: ../../../data/eminem\n",
       "x: LMTextList (50 items)\n",
       "[Text xxbos xxmaj guess who ? xxmaj you miss me ? xxmaj jessica xxmaj simpson sing the , xxmaj jessica xxmaj simpson xxmaj when you walked through the door xxmaj it was clear to me ( clear to me ) xxmaj you 're the one they adore , who they came to see ( who they came to see ) xxmaj you 're a , rock star ( baby ) xxmaj everybody wants you ( everybody wants you ) xxmaj player , who can really blame you ( who can really blame you ) xxmaj we 're the ones who ( chicka ) made you xxmaj back by popular demand xxmaj now pop a little xxmaj zantac or xxunk if you can xxmaj you 're ready to tackle any task that is at hand xxmaj how does it feel , is it fantastic , is it grand ? xxmaj well look at all the massive masses in the stands xxmaj shady man no do n't massacre the fans xxmaj damn , i think xxmaj kim xxmaj xxunk a man xxmaj she stomped him just cause he asked to put his hands xxmaj on her massive xxmaj gluteus maximus again xxmaj squeeze it , then xxmaj squish it , then pass it to her friend xxmaj can he come back as nasty as he can xxmaj yes he can , can , do n't ask me this again xxmaj he does not mean to lesbian offend xxmaj but xxmaj lindsay please come back to seeing men xxmaj samantha 's a two , you 're practically a ten i know you want me girl , in fact i see your grin ( xxmaj now come in girl ) xxmaj when you walked through the door xxmaj it was clear to me ( clear to me ) xxmaj you 're the one they adore , who they came to see ( who they came to see ) xxmaj you 're a , rock star ( baby ) xxmaj everybody wants you ( everybody wants you ) xxmaj player , who can really blame you ( who can really blame you ) xxmaj we 're the ones who ( chicka ) made you xxmaj the enforcer , looking for more women to torture xxmaj walk up to the cutest girl and xxmaj charlie xxmaj horse her xxmaj sorry xxmaj portia , but what 's xxmaj ellen degeneres xxmaj have that i do n't , are you telling me tenderness ? xxmaj well i can be as gentle and as smooth as a gentleman xxmaj give me my xxmaj ventolin inhaler and two xxmaj excedrin xxmaj and i 'll invite xxmaj sarah xxmaj palin out to dinner then xxmaj nail her , ' xxmaj baby say hello to my little friend ' xxmaj brit forget k - xxmaj fed let 's cut off the middle man xxmaj forget him or your gon na end up in the hospital again xxmaj and this time it wo n't be for the xxmaj ritalin binge xxmaj forget them other men , girl pay them little attention a little did i mention , that xxmaj jennifer 's in xxmaj love with me xxmaj john xxmaj mayer so sit on the bench xxmaj man i swear them other guys you give 'em an inch xxmaj they take a mile , they got style , but it is n't xxmaj slim xxmaj when you walked through the door xxmaj it was clear to me ( clear to me ) xxmaj you 're the one they adore , who they came to see ( who they came to see ) xxmaj you 're a , rock star ( baby ) xxmaj everybody wants you ( everybody wants you ) xxmaj player , who can really blame you ( who can really blame you ) xxmaj we 're the ones who made you xxmaj and that 's why , my love , you 'll never live without , i know you want me girl cause i can see you checking me out xxmaj and baby , you know , you know you want me too xxmaj do n't try to deny it baby , i 'm the only one for you xxmaj damn girl i 'm beginning to sprout an xxmaj alfalfa xxmaj why should i wash my filthy mouth out xxmaj you think that 's bad you should hear the rest of my album xxmaj never has there been such finesse and nostalgia xxmaj man xxmaj cash , i do n't mean to mess up your gal but xxmaj jessica xxmaj alba put a breast in my mouth xxmaj wowzers , i just made a mess of my trousers xxmaj and they wonder why i keep dressing like xxmaj elvis xxmaj lord help us he 's back in his pink xxmaj alf shirt xxmaj looking like someone shrinked his outfit i think he 's about to flip xxmaj jessica rest xxunk , xxmaj superman 's here to rescue ya xxmaj can you blame me ? xxmaj you 're my xxmaj amy , i 'm your xxmaj blake xxmaj matter fact bake me a birthday cake xxmaj with a saw blade in it to make my jail break xxmaj baby , i think you just met your soul mate ( xxmaj now break it down girl ) xxmaj when you walked through the door xxmaj it was clear to me ( clear to me ) xxmaj you 're the one they adore , who they came to see ( who they came to see ) xxmaj you 're a , rock star ( baby ) xxmaj everybody wants you ( everybody wants you ) xxmaj player , who can really blame you ( who can really blame you ) xxmaj we 're the ones who made you xxmaj so baby , baby , get down , down , down xxmaj baby , get down , down down xxmaj baby , get down , down down xxmaj baby , get down , get down xxmaj baby , get down , down down xxmaj baby , get down , down down xxmaj baby , get down , down down xxmaj baby , get down , get down xxmaj oh xxmaj amy , xxmaj rehab never looked so good , i ca n't wait , i 'm going back ! xxmaj ha ha woo ! xxmaj dr. xxmaj dre , 2020 , yeah < / p > ], Text xxbos xxmaj baby , your dada loves you xxmaj and i 'm a always be here for you xxmaj no matter what happens xxmaj you 're all i got in this world i would never give you up for nothing xxmaj nobody in this world is ever gon na keep you from me i love you xxmaj c'mon xxmaj hai - xxmaj hai , we going to the beach xxmaj grab a couple of toys and let xxmaj dada strap you in the car seat xxmaj oh , where 's xxmaj mama ? xxmaj she 's taking a little nap in the trunk xxmaj oh , that smell ? xxmaj dada must 've runned over a skunk xxmaj now , i know what you 're thinking xxmaj it 's kind of late to go swimmin ' xxmaj but you know your xxmaj mama , she 's one of those type of women that do crazy things xxmaj and if she do n't get her way , she 'll throw a fit xxmaj do n't play with xxmaj dada 's toy knife , honey , let go of it xxmaj and do n't look so upset , why you acting bashful ? xxmaj do n't you wanna help xxmaj dada build a xxunk ? xxmaj and xxmaj mama said she wants to show how far she can float xxmaj and do n't worry about that little boo - boo on her throat xxmaj it 's just a little scratch , it do n't hurt xxmaj her was eating dinner while you were xxunk and spilled ketchup on her shirt xxmaj mama 's messy , ai n't she ? xxmaj we 'll let her wash off in the water xxmaj and me and you can pway by ourselves , ca n't we ? xxmaj just the two of us , just the two of us xxmaj and when we ride xxmaj just the two of us , just the two of us xxmaj just you and i xxmaj just the two of us , just the two of us xxmaj and when we ride xxmaj just the two of us , just the two of us xxmaj see , honey xxmaj there 's a place called heaven and a place called hell a place called prison and a place called jail xxmaj and xxmaj dada 's probably on his way to all of 'em except one 'cause xxmaj mama 's got a new husband and a stepson xxmaj and you do n't want a brother , do ya ? xxmaj maybe when you 're old enough to understand a little better i 'll explain it to ya xxmaj but for now , we 'll just say xxmaj mama was real , real bad xxmaj was being mean to xxmaj dad and made him real , real mad xxmaj but i still feel sad that i put her on xxunk xxmaj sit back in your chair , honey , quit trying to climb out i told you it 's okay , xxmaj hai - xxmaj hai , want a ba - ba ? xxmaj take a night - night ? xxmaj nan - a - boo , goo - goo ga - ga ? xxmaj her make poo - poo ca - ca ? xxmaj dada change your xxunk xxmaj clean the baby up so her can take a nighty - nighty xxmaj your dad'll wake her up as soon as we get to the water ' 97 xxmaj bonnie and xxmaj clyde xxmaj me and my daughter xxmaj just the two of us , just the two of us xxmaj and when we ride xxmaj just the two of us , just the two of us xxmaj just you and i xxmaj just the two of us , just the two of us xxmaj and when we ride xxmaj just the two of us , just the two of us xxmaj just you and i xxmaj wake up , xxunk , we 're here , before we pway xxmaj we 're gon na take xxmaj mama for a wittle walk along the pier xxmaj baby , do n't cry , honey , do n't get the wrong idea xxmaj mama 's too sweepy to hear you screaming in her ear xxmaj that 's why you ca n't get her to wake , but do n't worry xxmaj dada made a nice bed for xxmaj mommy at the bottom of the lake xxmaj here , you wanna help xxmaj dada tie a rope around this rock ? xxmaj we 'll tie it to her footsie then we 'll roll her off the dock xxmaj ready now , here we go , on the count of free xxmaj one , two , free , whee ! xxmaj there goes xxmaj mama , xxunk in the water xxmaj no more fighting with xxmaj dad , no more restraining order xxmaj no more xxunk , no more new brother xxmaj blow her kisses bye - bye , tell xxmaj mama you xxunk her xxmaj now we 'll go play in the sand , build a castle and junk xxmaj but first , just help xxmaj dad with two more things out the trunk xxmaj just the two of us , just the two of us xxmaj and when we ride xxmaj just the two of us , just the two of us xxmaj just you and i xxmaj just the two of us , just the two of us xxmaj and when we ride xxmaj just the two of us , just the two of us xxmaj just you and i xxmaj just me and you , baby , is all we need in this world xxmaj just me and you xxmaj your dada will always be here for you xxmaj your dada 's always gon na love you xxmaj remember that xxmaj if you ever need me i 'm always be here for you xxmaj if you ever need anything , just ask xxmaj dada will be right there xxmaj your dada loves you i love you , baby < / p > ], Text xxbos a lotta people ask me xxmaj where the fuck i 've been at the last few years xxmaj shit , i do n't know xxmaj but i do know i 'm back now , haha xxmaj here comes the rain and thunder now xxmaj nowhere to run , to run to now i 'll disappear , you 'll wonder how xxmaj lookin ' for me , i 'm underground xxmaj here comes the rain and thunder now xxmaj nowhere to run , to run to now i 'll disappear , you 'll wonder how xxmaj lookin ' for me , i 'm underground xxmaj dre , i 'm down here under the ground xxmaj dig me up , broken xxunk , xxunk , yeah , fix me up 60 sluts , all of them dyin ' from xxunk xxmaj after they sip piss through xxmaj christopher xxmaj reeves xxunk cup xxmaj dixie cups , xxunk , boxes of xxunk pads xxmaj enough xxunk cotton to send a fuckin ' xxunk to rehab xxmaj whack job in a bag and a black xxunk ' cap xxmaj jackin ' off to a hockey mask at a xxunk ' match xxmaj he ca n't say that , yes he can i just did , faggot , now guess again xxmaj you better text message to your next of kin xxmaj tell 'em shit 's about to get extra messy especially when i flex again xxmaj throw a fuckin ' lesbian in xxunk men xxmaj so faggidy , faggidy , faggidy , xxunk xxmaj ann and xxmaj andy xxmaj no , xxunk , xxmaj andy and xxmaj andy , no , it ca n't be , it ca n't be xxmaj yes , it can be , the fuckin ' xxmaj xxunk is back xxmaj danny and xxmaj satan in black satin panties xxmaj this is xxmaj amityville , xxunk xxmaj goddamn it , insanity pills , fanny pack filled with xxunk xxmaj through every xxunk and xxunk , lookin ' for xxunk xxmaj milk and cookies spilled on my silk xxunk , lookie xxmaj razor blades with me to make you bleed xxmaj cases of xxmaj xxunk make up layin ' on the table with weed xxmaj slim xxmaj shady , shit sounds like a xxunk to me xxmaj until he jumps out of the fuckin ' toilet when you 're takin ' a pee xxmaj here comes the rain and thunder now xxmaj nowhere to run , to run to now i 'll disappear , you 'll wonder how xxmaj lookin ' for me , i 'm underground xxmaj here comes the rain and thunder now xxmaj nowhere to run , to run to now i 'll disappear , you 'll wonder how xxmaj lookin ' for me , i 'm underground xxmaj six semen xxunk , 17 xxunk of hair xxmaj found at the back of a van after the shoot with xxmaj vanity xxmaj fair xxmaj hannah xxmaj montana , prepare to elope with a can xxunk xxmaj and be cut open like xxunk and xxunk beds xxmaj and glad bags , yeah , glad to be back 'cause last year was a tragedy that landed me smack xxunk in rehab xxmaj fuckin ' doctor , i ai n't understand a damn word he said i planned to relapse the second i walked out of that bitch xxmaj two weeks in xxmaj brighton , i ai n't xxunk xxmaj bitin ' into a fuckin ' xxmaj vicadin like i 'm a xxmaj xxunk xxmaj oh , xxunk the xxunk ' , might be a fuckin ' sign i need a xxunk xxmaj xxunk , fuck xxmaj jason , it 's xxmaj friday the xxunk xxmaj that means is just a regular day xxmaj and this is the kind of shit i think of xxunk xxmaj fuckin ' lesbian should n't have had her legs in the way xxmaj now she 's pregnant and gay , missin ' both legs and beggin ' to stay xxmaj here comes the rain and thunder now xxmaj nowhere to run , to run to now i 'll disappear , you 'll wonder how xxmaj lookin ' for me , i 'm underground xxmaj here comes the rain and thunder now xxmaj nowhere to run , to run to now i 'll disappear , you 'll wonder how xxmaj lookin ' for me , i 'm underground xxmaj so tell the critics i 'm back and i 'm comin ' to spit it back in xxunk xxmaj hit a fag with xxunk and split a bag of xxmaj xxunk xxmaj mad at me ? xxmaj understandable , cannibal , shootin ' animal xxmaj light up a cannon and have him xxunk addin ' a dog xxmaj captain of the xxunk with an elite following xxmaj to turn xxmaj halloween back to a trick or treat holiday xxmaj have xxmaj micheal xxmaj myers lookin ' like a liar , swipe his powers xxmaj replace his knife with flowers and a stack of xxunk xxmaj hit xxmaj jason xxmaj xxunk with a 40 xxmaj stuck a xxunk up his ass and made him tell me a story xxmaj gave xxmaj hannibal xxmaj lecter a fuckin ' xxunk xxmaj and sat him in a fuckin ' fruit and xxunk section xxmaj and gave him a xxunk xxmaj walked up xxmaj elm xxmaj street with a fuckin ' xxunk bat , xxmaj drew xxmaj fought xxmaj freddy xxmaj krueger and xxmaj xxunk xxmaj xxunk , too xxmaj and came out with a little scratch , ooh xxmaj lookin ' like i got in a fuckin ' pillow fight with a triple fat goose xxmaj insanity , can it be vanity ? xxmaj where is the xxunk ? xxmaj and havin' a twisted fantasy with an arm and leg xxunk xxmaj straight jacket with a hundred eight xxunk xxmaj and a strap that xxunk twice around my back , then they latch it xxmaj cut your fuckin ' head off and ask you where you headed off to xxmaj get it , headed off to ? xxmaj medic , this headache 's awful xxmaj this xxunk 's pathetic , so 's this diabetic waffle xxmaj and this prosthetic arm keeps xxunk ' my hard taco xxmaj here comes the rain and thunder now xxmaj nowhere to run , to run to now i 'll disappear , you 'll wonder how xxmaj lookin ' for me , i 'm underground xxmaj here comes the rain and thunder now xxmaj nowhere to run , to run to now i 'll disappear , you 'll wonder how xxmaj lookin ' for me , i 'm underground xxmaj so , it was n't a choice , it was i had to do this xxmaj and now i got 90 days clean and that 's all i have to share , thanks xxmaj thanks for xxunk ' , xxmaj brian , is there anyone else xxmaj who would like to share this xxunk ' ? xxmaj yeah , i got somethin' to share xxmaj when you walked through the door you were queer to me xxmaj so come here , baby boy , just come here to me xxmaj you 're a cock boy , everybody wants you xxmaj you 're xxunk than you would ever claim to i wo n't have to rape you xxmaj so homie , lay down , down , down xxmaj lay down , down , down , lay down , down , down xxmaj lay down , lay down xxmaj where 's everybody goin' ? xxmaj this always went over real big in xxmaj gay a xxmaj okay wait , i got another one i just love condoms and xxunk of cum xxmaj no ? xxmaj oh shit < / p > ], Text xxbos xxmaj man , i need a lighter , man , right here xxmaj yeah , xxunk , xxmaj slim ? xxmaj what 's xxunk ' ? xxmaj hit this shit , shit , i almost hit this motherfucker today xxmaj is that right ? xxmaj what is it with motherfuckers thinkin ' that xxmaj because we 're in the spotlight or whatever that xxmaj they can do or say whatever they want to us xxmaj and that we wo n't retaliate xxmaj protect my motherfuckin ' self xxmaj by any means , xxunk , right ? 'cause you do n't know me , i do n't know you xxmaj so do n't approach me , i wo n't approach you xxmaj and do n't insult me , i wo n't insult you 'cause you do n't know what i will or i wo n't do 'cause you do n't know me , i do n't know you xxmaj so do n't approach me , i wo n't approach you xxmaj and do n't insult me , i wo n't insult you 'cause you do n't know what i will or i wo n't do xxmaj make no mistake , i 'm the xxmaj golden xxmaj state xxunk xxmaj bein ' xxunk gave me time to create it xxmaj can you relate ? i xxunk , straight out the gate xxmaj carried my weight but seem to xxunk nothin' but hate xxmaj xxunk snatchin ' xxunk off my little son plate xxmaj xxunk , locked in a trunk , get shot in the face xxmaj no hoes , no clothes , no one showin ' up for my shows xxmaj you know how it goes , i might as well kick it at home xxmaj but my baby momma hate my guts and ca n't stand me ( xxmaj yeah ) xxmaj packed up , moved out , started a new family xxmaj so all this xxunk ' for what so i can blow up xxmaj marry a slut but ca n't watch my seed grow up ? xxmaj fuck that , this the fuckin ' thanks i get xxmaj for tryin ' to xxunk assholes and feed my bitch xxmaj yo , i feel like my whole life is upside down ( xxmaj upside down ) 'cause you seein ' more support than i 'm seein ' my child xxmaj it 's like everyday i wake up , another drama xxmaj it 's a wonder i 'm alive , xxunk ' this karma xxmaj if i can hold on to my private life for five minutes longer i might get my wife to let go of this knife and just calm her xxmaj without these cameras in our faces like animals xxmaj for your xxmaj channel 2 xxmaj action xxmaj news to follow our ambulance up the xxunk xxmaj and catch a xxunk of all the suicide xxunk xxmaj and what we do in private since they wo n't let us put up a fence xxmaj and you wonder why i carry every gun under the sun xxmaj whether it 's xxunk full or an xxunk one xxmaj no bullet , you 're so full of shit xxmaj this clip is so full it 'll spit if i do n't pull it xxmaj and do n't give me no bullshit , i 'm not in the mood i just got in a xxunk in some parkin ' lot with a dude xxmaj over xxmaj kim and she just slit both of her wrists over the shit xxmaj do n't tell me bout the show business shit i know what this is , bitch 'cause you do n't know me , i do n't know you xxmaj so do n't approach me , i wo n't approach you xxmaj and do n't insult me , i wo n't insult you 'cause you do n't know what i will or i wo n't do 'cause you do n't know me , i do n't know you xxmaj so do n't approach me , i wo n't approach you xxmaj and do n't insult me , i wo n't insult you 'cause you do n't know what i will or i wo n't do xxmaj this ai n't business , this is personal bitch xxmaj you do n't know xxmaj xzibit from shit , new school , class xxunk i had a very fucked up day , i 'm xxunk ' this fit xxmaj xxunk ' motherfuckers up like they xxunk ' the 5th xxmaj yo xxmaj em , it 's time to get serious with it ( xxmaj yeah ) xxmaj time for everybody to feel it , similar to the egg in the skillet xxmaj this is your brain on drugs , xxmaj xzibit brain on thugs xxmaj ai n't no neighborhood that 's big enough to bang on us xxmaj ai n't no love , lost my niggaz , relax yourself i 'm about to snatch it all and start xxunk ' the wealth xxmaj to my niggaz who never seen it , i mean it when i holla xxmaj at the top of my lungs , about my guns and my loved ones xxmaj got xxunk of ammo to crack your xxunk xxmaj changin ' your channel , you played like a fuckin ' piano xxmaj ridin ' slow through xxmaj cali like i 'm ridin ' a xxunk xxmaj millionaire motherfuckers with their brains in their xxunk i feel like , xxmaj tony xxmaj xxunk , who do i trust now ? xxmaj just hit me on my xxunk ' , nigga , soon as i touch down xxmaj spit lines to split xxunk just to get mine xxmaj big behind bitches gettin ' dick to spit shine xxmaj sniff lines of coke that 's the only shit that make you dope xxmaj bitch - ass nigga that 's droppin ' the soap xxmaj get choked out and beat , put your head in a xxunk - grip xxmaj and turn til you motherfuckers tell me the right shit xxmaj so do i got ta buy a whole block to myself a front door with twelve xxunk xxmaj and have a xxunk walk me out to my mailbox xxmaj and every time somebody makes a threat , run and tell cops ? xxmaj fuck that , i protect myself with these twelve shots xxmaj and one in the chamber , gun in the waist and one in the ankle , waitin ' for someone to come to my place xxmaj tryin ' to walk up and knock like these cocksuckers are not xxmaj gon na get a shotgun or a glock shoved in their face ? xxmaj and it 's a xxunk , xxmaj hailey ca n't play with her toys xxmaj in the front yard without you drivin ' by xxunk ' your horn xxmaj screamin ' some shit , leanin ' out your windows , xxunk ' ' n ' shit xxmaj or pullin ' up in my drive like i wo n't leap in your whip xxmaj and so these kids tell their friends and xxunk where i live xxmaj so my address ends up on the xxmaj internet again xxmaj so then , i do an xxunk with xxmaj spin , tellin ' them xxmaj that if someone comes to my crib i 'm a shove a gun in their ribs xxmaj and xxunk , blow it out of proportion \" xxmaj oh , now he 's pullin ' guns on his fans xxmaj just for tryin ' to stand on his porch \" xxmaj and i 'm the bad guy 'cause i do n't answer my door like \" xxmaj hey , hi ! xxmaj you guys wants some autographs ? xxmaj okay , form a straight line \" xxmaj sometimes i feel like xxunk ' this xxunk xxmaj and xxunk ' the roof at night xxmaj and hidin ' outside to xxunk you xxmaj it 's not that i do n't like you xxmaj it 's just that i 'm not behind the mic i 'm a person who 's just like you < / p > ], Text xxbos xxmaj woah , uh get your hands in the air xxmaj and get to clapping 'em and , like , back and forth xxmaj because this is what you thought it was n't xxmaj it be 's the brothers representin ' the xxmaj dirty xxmaj dozen i be the f - r - o the double g xxmaj and check out my man , he goes by the name of um , er … xxmaj slim xxmaj shady , brain dead like xxmaj jim xxmaj brady i 'm an xxup m-80 , you little like that xxmaj kim lady i 'm buzzin ' , xxmaj dirty xxmaj dozen , naughty rotten rhymer xxmaj cursin ' at you playas worse than xxmaj marty xxmaj schottenheimer xxmaj you wacker than the motherfucker you bit your style from xxmaj you ai n't gon ' sell two copies if you press a double album xxmaj admit it , fuck it , while we coming out in the open i 'm doing acid , crack , smack , coke and smoking dope then xxmaj my name is xxmaj marshall xxmaj mathers , i 'm an alcoholic \" xxmaj hi , xxmaj marshall ! \" i have a disease , and they do n't know what to call it xxmaj better hide your wallet 'cause i 'm coming up quick to strip your cash xxmaj bought a ticket to your concert just to come and whip your ass xxmaj bitch , i 'm coming out swingin ' , so fast it 'll make your eyes spin xxmaj you getting knocked the fuck out like xxmaj mike xxmaj tyson xxmaj the proof is in the pudding , just ask deshaun xxmaj holton i 'll slit your motherfucking throat worse than xxmaj ron xxmaj goldman xxmaj so when you see me on your block with two xxmaj glocks xxmaj screaming \" xxmaj fuck the world \" like xxmaj tupac i just do n't give a fuck xxmaj talking that shit behind my back xxmaj dirty macking , telling your boys that i 'm on crack i just do n't give a fuck xxmaj so put my tape back on the rack xxmaj go run and tell your friends my shit is wack i just do n't give a fuck xxmaj but see me on the street and duck 'cause you gon ' get stuck , stoned , and snuffed 'cause i just do n't give a fuck i 'm nicer than xxmaj pete , but i 'm on a search to crush a milkbone i 'm everlasting , i melt vanilla ice like silicone i 'm ill enough to just straight up diss you for no reason i 'm colder than snow season when it 's 20 below freezin ' xxmaj flavor with no seasonin ' , this is the sneak preview i 'll diss your magazine and still wo n't get a weak review i 'll make your freak leave you , smell the xxmaj folgers crystals xxmaj this is lyrical combat , gentlemen , hold your pistols xxmaj but i form like xxmaj voltron and blast you with my shoulder missiles xxmaj slim xxmaj shady , xxmaj eminem was the old initials xxmaj extortion , snortin ' , supportin ' abortion xxmaj pathological liar , blowing shit out of proportion xxmaj the looniest , zaniest , spontaneous , sporadic xxmaj impulsive thinker , compulsive drinker , addict xxmaj half animal , half man xxmaj dumping your dead body inside of a fucking trash can xxmaj with more holes than an afghan xxmaj so when you see me on your block with two xxmaj glocks xxmaj screaming \" xxmaj fuck the world \" like xxmaj tupac i just do n't give a fuck xxmaj talking that shit behind my back xxmaj dirty macking , telling your boys that i 'm on crack i just do n't give a fuck xxmaj so put my tape back on the rack xxmaj go run and tell your friends my shit is wack i just do n't give a fuck xxmaj but see me on the street and duck 'cause you finna get stuck , stoned , and snuffed 'cause i just do n't give a fuck xxmaj somebody let me out this limousine ! i 'm a caged demon xxmaj on stage screamin ' like xxmaj rage xxmaj against the xxmaj machine i 'm convinced i 'm a fiend xxmaj shooting up while this record is spinnin ' xxmaj clinically brain dead , i do n't need a second opinion xxmaj fuck droppin ' a jewel , i 'm flippin ' a sacred treasure i 'll bite your motherfuckin ' style , just to make it fresher i ca n't take the pressure , i 'm sick of bitches xxmaj sick of nagging bosses bitchin ' while i 'm washin ' dishes xxmaj in school i never said much , too busy having a headrush xxmaj doing too much rush had my face flushed like red blush xxmaj then i went to xxmaj jim xxmaj beam , that 's when my face grayed xxmaj went to gym in 8th grade , ( raped ) the women 's swim team xxmaj do n't take me for a joke , i 'm no comedian xxmaj too many mental problems got me snortin ' coke and smokin ' weed again i 'm going up over the curb , driving on the median xxmaj finally made it home , but i do n't got the key to get in xxmaj so when you see me on your block with two xxmaj glocks xxmaj screaming \" xxmaj fuck the world \" like xxmaj tupac i just do n't give a fuck xxmaj talking that shit behind my back xxmaj dirty macking , telling your boys that i 'm on crack i just do n't give a fuck xxmaj so put my tape back on the rack xxmaj go run and tell your friends my shit is wack i just do n't give a fuck xxmaj but see me on the street and duck 'cause you gon ' get stuck , stoned , and snuffed 'cause i just do n't give a fuck xxmaj shit , fuck everybody ! xxmaj outsidaz xxmaj pacewon xxmaj young xxmaj zee xxmaj fuck the entire world ! < / p > ]]...\n",
       "Path: ../../../data/eminem;\n",
       "\n",
       "Test: None, model=SequentialRNN(\n",
       "  (0): RNNCore(\n",
       "    (encoder): Embedding(6450, 400, padding_idx=1)\n",
       "    (encoder_dp): EmbeddingDropout(\n",
       "      (emb): Embedding(6450, 400, padding_idx=1)\n",
       "    )\n",
       "    (rnns): ModuleList(\n",
       "      (0): WeightDropout(\n",
       "        (module): LSTM(400, 1150)\n",
       "      )\n",
       "      (1): WeightDropout(\n",
       "        (module): LSTM(1150, 1150)\n",
       "      )\n",
       "      (2): WeightDropout(\n",
       "        (module): LSTM(1150, 400)\n",
       "      )\n",
       "    )\n",
       "    (input_dp): RNNDropout()\n",
       "    (hidden_dps): ModuleList(\n",
       "      (0): RNNDropout()\n",
       "      (1): RNNDropout()\n",
       "      (2): RNNDropout()\n",
       "    )\n",
       "  )\n",
       "  (1): LinearDecoder(\n",
       "    (decoder): Linear(in_features=400, out_features=6450, bias=True)\n",
       "    (output_dp): RNNDropout()\n",
       "  )\n",
       "), opt_func=functools.partial(<class 'torch.optim.adam.Adam'>, betas=(0.9, 0.99)), loss_func=<fastai.layers.FlattenedLoss object at 0x7f0e26fe79e8>, metrics=[<function accuracy at 0x7f0e2c883c80>], true_wd=True, bn_wd=True, wd=0.01, train_bn=True, path=PosixPath('../../../data/eminem'), model_dir='models', callback_fns=[<class 'fastai.basic_train.Recorder'>], callbacks=[RNNTrainer(learn=LanguageLearner(data=TextLMDataBunch;\n",
       "\n",
       "Train: LabelList\n",
       "y: LMLabel (450 items)\n",
       "[Category 0, Category 0, Category 0, Category 0, Category 0]...\n",
       "Path: ../../../data/eminem\n",
       "x: LMTextList (450 items)\n",
       "[Text xxbos xxmaj eminem ] xxmaj peace to xxmaj xxunk xxmaj xxunk , xxup xxunk and xxmaj xxunk xxmaj my mother smoked crack , i had a premature birth i 'm just a xxunk cursed , wit badly xxunk nerves xxmaj who wanna be the one to step up and get served first ? xxmaj ninety - nine percent of aliens prefer earth xxmaj so i 'm here to rule the planet , startin wit your turf i hid a secret message inside of a xxunk xxmaj wit xxunk letters , runnin together in blurred xxunk i hang wit male chauvinist pigs and xxunk xxmaj who point water pistols at women and xxunk shirts xxmaj been a bad boy since diapers and xxmaj xxunk 's xxmaj my first words were \" xxmaj bleep bleep \" and \" xxmaj curse curse \" xxmaj never had ish , and i still do n't deserve dirt xxmaj my breath still stinks and i 'm on my third xxmaj xxunk xxmaj xxunk out my stitches , hollering \" xxmaj nurse nurse ! \" \" xxmaj you said this shot would numb it , trick it just hurts worse ! \" xxmaj grew up in a dump next door to a burnt church xxmaj but gunshots drowned out crickets and bird xxunk xxmaj and it 's like that , and it 's like that xxmaj evidence ] xxmaj got no xxunk xxmaj yo i xxmaj xxunk my xxunk , mix words in xxunk xxmaj evidence , i wo n't get caught shot on the balcony xxmaj between you and i , i 'll tell you here 's the xxunk xxmaj gun to your head , you 're dead , xxunk i xxunk xxmaj that 's right , to dear / xxunk , xxunk , or xxunk xxmaj in life , use your xxunk , or xxmaj steve xxmaj xxunk i 'm about to call it quits , yo too much xxunk break your rack xxunk xxmaj the xxunk make you move , yo so make your move a xxunk xxmaj you say i use my name too much as a clutch xxmaj try holdin on to beat instead of pushin on your crutch xxmaj flipped it backwards , xxmaj evidence attack xxunk off the head xxmaj xxunk , right or left , do n't matter see you comin xxmaj deaf / xxmaj def like xxmaj xxunk , pop the piece , i be the xxunk xxmaj causin the herd , the name is xxmaj xxunk absurd xxmaj verbs get flipped , it 's like this , yo xxunk and all that xxmaj xxunk xxunk , you claimin metaphors and spittin xxunk xxmaj not havin xxmaj it , the name is xxmaj evidence xxmaj like xxmaj xxunk . k xxunk the life thinkin of xxunk it xxmaj skills xxunk you possess , take no xxunk xxmaj but do n't xxunk lies within your mind , tempt and stress xxmaj iriscience ] xxmaj it 's like uh - oh - oh xxmaj it 's xxmaj dilated xxmaj xxunk on the xxmaj wake xxmaj up xxmaj show - uh - oh xxmaj we kick a lick or some for the radio - uh - oh xxmaj yo xxunk like xxmaj xxunk * fades out * < / p > ], Text xxbos i xxunk you ai n't familiar with these here parts xxmaj you know , there 's a story behind that there saloon xxmaj twenty years ago , two xxunk took this whole town over xxmaj xxunk could n't stop 'em , xxunk damn gun xxunk i 've ever seen xxmaj got murdered in cold blood , that ol' saloon there was their lil ' home xxmaj away from home , they say the xxunk of bad and evil still live xxmaj in that xxunk and on a quiet night , you can still hear the footsteps of xxmaj slim xxmaj shady and xxmaj royce xxmaj da xxmaj five - xxmaj nine i do n't speak , i float in the air wrapped in a sheet i 'm not a real person , i 'm a ghost trapped in a beat i xxunk when my voice is read through a xxunk xxmaj and a noise is xxunk , picked up and xxunk through xxmaj royce 's head xxmaj trapped him in his room , possessed him and xxunk his bed xxmaj till the xxunk flows through his blood like xxunk lead xxmaj told him each one of his boys is dead i asked him to come to the dark side , he made a choice and said xxmaj who hard ? yo i done heard worse xxmaj we can get in two cars and xxunk at each other xxmaj to see which xxunk xxunk first xxmaj two blind xxunk panic , whose mental xxunk holds xxmaj that of a xxunk on top of nine other planets xxmaj kissed the cheek of the devil , xxunk level is xxunk than xxmaj xxunk xxunk ' on xxunk in the ghetto xxmaj xxunk , i 'm not a fair man , xxunk the race of a atheist xxmaj xxunk missiles wit my bare hands like a xxunk xxmaj one track sliced without swords , i buried the xxmaj christ corpse xxmaj in my past life when the black xxunk xxunk the white horse xxmaj and stay over - worked , its like the xxmaj xxunk in the xxunk xxmaj xxunk , xxunk ' to take over the earth 'cuz this is what happens when bad meets evil xxmaj we hit the trees till we look like xxmaj xxunk people xxmaj he 's evil , and i 'm bad like xxmaj steve xxmaj xxunk xxmaj above the law 'cuz i do n't agree wit police either xxmaj we ai n't eager to be legal xxmaj so please leave me with the keys to your jeep eagle i breathe ether in three amounts xxmaj when i stab myself in the knee with a xxunk needle xxmaj releasin ' rage on anybody in squeezing range xxmaj cold enough to make the xxunk change into freezing rain xxmaj he 's insane , no i 'm not , i just want to shoot up xxmaj and i 'm pissed off 'cuz i ca n't find a xxunk vain xxmaj the disaster wit dreads i 'm bad enough to commit suicide and survive long enough xxmaj to kill my soul after i 'm dead xxmaj when in danger it 's funny actually my flavor 's similar to a waiter 'cuz i serve any stranger with money i spray a hundred , man until they joint chains xxmaj while slippin ' bullets at point blank range like they was punches xxmaj piss on a flag and burn it , murder you then come to your funeral xxmaj serve this xxunk , strangle your body then xxunk you xxmaj whippin ' human ass , throwin ' blows xxunk ' jaws xxmaj wit my xxunk wrapped in gauze , dipped in glue and glass i 'm blazin ' xxup mc 's , at the same time amazin ' xxup mc 's xxmaj somehow xxup mc 's ai n't that eye - xxunk raisin ' to me xxmaj from all of angles of us , flash a mack loud enough xxmaj to cast a xxunk and bust till xxunk erupt xxmaj hello ? xxmaj billy , aiyyo what 's up xxmaj we 're comin ' to get you xxmaj stop , they know it 's us i used to be a xxunk , remember me ? i 'm the one who burned your house down xxmaj well i 'm out now , and this time i 'm comin ' back to blow your house up xxmaj and i ai n't gone leave you a window to jump out of xxmaj give me two fat tabs and three shrooms xxmaj and you wo n't see me like fat people in steam rooms xxmaj and when i go to hell and i 'm gettin ready to leave i 'm a put air in a bag and charge people to breathe 'cuz this is what happens when bad meets evil xxmaj and we hit the trees till we look like xxmaj xxunk people xxmaj he 's xxmaj evil , and i 'm xxmaj bad like xxmaj steve xxmaj xxunk xxmaj against peaceful , see you in hell for the sequel xxmaj we 'll be waitin ' , xxmaj see you in hell xxmaj wall xxmaj street , xxmaj royce xxmaj da xxmaj five - xxmaj nine , xxmaj slim xxmaj shady xxmaj see you in hell for the sequel , bye bye xxmaj bad meets evil , what ? xxmaj till next time { xxmaj and so that 's the story when bad meets evil xxmaj two of the most wanted xxunk in the xxunk xxmaj made xxmaj xxunk xxmaj james and xxmaj billy the xxmaj kid look like law - xxunk xxunk xxmaj it 's too bad they had to go out the way they did xxmaj got shot in the back comin ' out of that ol' saloon xxmaj but their spirits still live on till this day xxmaj wait , did y' all hear that ? } < / p > ], Text xxbos xxmaj lately i 've been hard to reach i 've been too long on my own xxmaj everybody has their private world xxmaj where they can be alone xxmaj are you calling me ? xxmaj are you trying to get through ? xxmaj are you reaching out for me ? i 'm reaching out for you i 'm just so fucking depressed i just ca n't seem to get out this slump xxmaj if i could just get over this hump xxmaj but i need something to pull me out this dump i took my xxunk , took my xxunk xxmaj fell down and i got right back up xxmaj but i need that spark to get xxunk back up xxmaj and in order for me to pick the mic back up i do n't know how or why or when i ended up this position i 'm in i 'm starting to feel dissin ' again xxmaj so i decided just to pick this pen xxmaj up and try to make an attempt to vent xxmaj but i just ca n't admit xxmaj or come to xxunk with the fact that i may be done with rap i need a new outlet xxmaj and i know some shit 's so hard to swallow xxmaj but i ca n't just sit back and wallow xxmaj in my own sorrow but i know one fact i 'll be one tough act to follow xxmaj one tough act to follow i 'll be one tough act to follow xxmaj here today , gone tomorrow xxmaj but you 'd have to walk a thousand miles xxmaj in my shoes , just to see xxmaj what it 's like , to be me i 'll be you , let 's trade shoes xxmaj just to see what it 'd be like xxmaj to feel your pain , you feel mine xxmaj go inside each others ' minds xxmaj just to see what we 'd find xxmaj look at shit through each others ' eyes xxmaj do n't let 'em say you ai n't beautiful xxmaj they can all get fucked , just stay true to you xxmaj so do n't let 'em say you ai n't beautiful xxmaj they can all get fucked , just stay true to you i think i 'm starting to lose my sense of xxunk xxmaj everything 's so tense and xxunk i almost feel like i got ta check xxmaj the xxunk of the room xxmaj just as soon as i walk in , it 's like all eyes on me xxmaj and so i try to avoid any eye contact 'cause if i do that then it opens the door xxmaj for conversation , like i want that i 'm not looking for extra attention i just wanna be just like you xxmaj xxunk in with the rest of the room xxmaj maybe just point me to the closest xxunk i do n't need no fucking man xxunk xxmaj trying to follow me around and wipe my ass xxmaj laugh at every single joke i crack xxmaj and half of 'em ai n't even funny like xxmaj ha ! xxmaj marshall you 're so funny man xxmaj you should be a comedian , god damn ! \" xxmaj xxunk i am i just hide behind the tears of a clown xxmaj so why do n't you all sit down xxmaj listen to the xxunk i 'm about to tell xxmaj hell , we do n't got ta trade our shoes xxmaj and you ai n't got ta walk no thousand miles xxmaj in my shoes , just to see xxmaj what it 's like , to be me i 'll be you , let 's trade shoes xxmaj just to see what it 'd be like xxmaj to feel your pain , you feel mine xxmaj go inside each others minds xxmaj just to see what we 'd find xxmaj look at shit through each others eyes xxmaj do n't let 'em say you ai n't beautiful xxmaj they can all get fucked , just stay true to you xxmaj so do n't let 'em say you ai n't beautiful xxmaj they can all get fucked , just stay true to you xxmaj nobody asked for life to deal us xxmaj with these bullshit hands we 're dealt xxmaj we got ta take these cards ourselves xxmaj and flip 'em , do n't expect no help xxmaj now i could 've either just sat on my ass xxmaj and pissed and xxunk xxmaj or take this situation in which i 'm placed in xxmaj and get up and get my own i was never the type of kid xxmaj to wait by the door and pack his bags i sat on the porch and xxunk and prayed xxmaj for a dad to show up who never did i just wanted to fit in xxmaj every single place , every school i went i xxunk of being that cool kid xxmaj even if it meant acting stupid xxmaj and xxmaj edna always told me xxmaj keep making that face and it 'll get stuck like that xxmaj meanwhile i 'm just standing there xxmaj holding my tongue tryna talk like that ' xxmaj til i stuck my tongue on that frozen stop sign pole xxmaj at 8 years old i learned my lesson then 'cause i was n't trying to xxunk my friends no more xxmaj but i already told you my whole life story xxmaj not just based on my description 'cause where you see it , from where you 're sittin xxmaj it 's probably xxunk % different i guess we would have to walk a mile xxmaj in each others shoes at least xxmaj what size you wear ? i wear 10 's xxmaj let 's see if you can fit your feet xxmaj in my shoes , just to see xxmaj what it 's like , to be me i 'll be you , let 's trade shoes xxmaj just to see what it 'd be like xxmaj to feel your pain , you feel mine xxmaj go inside each others minds xxmaj just to see what we 'd find xxmaj look at shit through each others eyes xxmaj do n't let 'em say you ai n't beautiful xxmaj they can all get fucked just stay true to you xxmaj so do n't let 'em say you ai n't beautiful xxmaj they can all get fucked just stay true to you xxmaj so do n't let 'em say you ai n't beautiful xxmaj they can all get fucked just stay true to you xxmaj so xxmaj lately i 've been hard to reach i 've been too long on my own xxmaj everybody has their private world xxmaj where they can be alone xxmaj are you calling me ? xxmaj are you trying to get through ? xxmaj are you reaching out for me ? i 'm reaching out for you xxmaj yeah , to my babies xxmaj stay strong , daddy will be home soon xxmaj and to the rest of the world xxmaj god gave you shoes to fit you xxmaj so put 'em on and wear 'em xxmaj be yourself man , be proud of who you are xxmaj even if it sounds corny xxmaj do n't ever let anyone tell you you ai n't beautiful < / p > ], Text xxbos xxmaj eminem xxmaj miscellaneous b - xxmaj rabbit xxmaj vs . xxmaj papa xxmaj doc ( xxmaj freestyle xxmaj from 8 xxmaj mile ) xxmaj now everybody from the 313 xxmaj put your mothefucking hands and follow me xxmaj everybody from the 313 xxmaj put your mothefucking hands up xxmaj look xxmaj look xxmaj now while he stands tough xxmaj notice that this man did not had his hands up xxmaj the free world got you gased up xxmaj now who 's afraid of the big bad wolf 1 , 2 , 3 and to the 4 1 pac , 2 pac , 3 pac , 4 4 pac , 3 pac , 2 pac , 1 xxmaj you 're pac , he 's pac , no pacs , none xxmaj this guy ai nt no mother - fuckin xxup mc , i know everything he 's got to say against me , i am white , i am a fuckin bum , i do live in a trailer with my mom , xxmaj my boy future is an uncle tom . i do got a dumb friend named xxmaj cheddar xxmaj bob who shoots himself in the leg with his own gun , i did get jumped by all 6 of you chumps xxmaj and xxmaj wink did fuck my girl , i 'm still standin here screamin \" xxup fuck xxup the xxup free xxup world ! \" xxmaj do n't ever try to judge me dude xxmaj you do n't know what the fuck i 've been through xxmaj but i know something about you xxmaj you went to xxmaj crankbook , that 's a private school xxmaj what 's the matter dawg ? xxmaj you embarrased ? xxmaj this is guy 's a gangster , he 's real name 's xxmaj clarence xxmaj and xxmaj clarence lives at home with both parents xxmaj and xxmaj clarence 's parents have a real good marriage xxmaj this guy do n't wanna battle , xxmaj he 's shook 'cause there no such things as half - way crooks xxmaj he 's scared to death xxmaj he 's scared to look in his fuckin yearbook , fuck xxmaj crankbook xxmaj fuck the beat , i go acapella xxmaj fuck a papa doc , fuck a clock , fuck a trailer , fuck everybody xxmaj fuck y' all if you doubt me i 'm a piece of fucking white trash , i say it proudly xxmaj and fuck this battle , i do n't wanna win , i 'm outty , xxmaj here , tell this people something they do nt know about me . < / p > ], Text xxbos xxmaj eminem xxmaj miscellaneous xxmaj eminem xxmaj exclusive xxmaj freestyle xxmaj yo ! xxmaj turn that click off … xxmaj my music is xxunk xxmaj but its also xxunk xxmaj that it can put you in the mood to jump out your car while it 's movin xxmaj you been waitin ' on this moment xxmaj my sermon is like a xxunk i 'm servin ' i 'm xxmaj xxunk xxmaj sermon i saw the window was open xxmaj and i jumped through it xxmaj my shit if you do n't get xxunk to it i quit , here 's my rhyme book xxmaj go ahead and thumb through it xxmaj and pick what you want from it xxmaj xxunk , and find something you can use to jump someone xxmaj and roll up bumpin i 'm constantly xxunk ' over you xxmaj xxunk ' , shit has gotten to the point xxmaj where i ai n't even writin ' no more , i 'm just xxunk ' xxmaj this is chicken scratch , shit is xxunk ' i 've been kickin ' ass off bullshit xxmaj xxunk rhymes , pick a xxunk i live for the love of rap , you crazy i ve made beats for xxmaj jay - z for free xxmaj page me , you need a beat , you xxmaj xxunk xxmaj then it 's xxmaj dre 's fee , you xxmaj kay xxmaj slay the xxunk xxunk i stay beefin ' with xxup jd , till the day xxmaj dre xxunk me xxmaj that it 's okay to stop blazin ' him xxmaj oops ! i put it out , i apologize now xxmaj it 's too late g , it 's on tape xxmaj and the tape xxunk , \" xxmaj say xxmaj what xxmaj you xxmaj say \" mothafucka xxmaj drama xxmaj king , xxmaj kay xxmaj slay , mothafucka , xxmaj we xxunk these xxunk mothafucka xxmaj xzibit blaze little gay midget xxunk < / p > ]]...\n",
       "Path: ../../../data/eminem;\n",
       "\n",
       "Valid: LabelList\n",
       "y: LMLabel (50 items)\n",
       "[Category 0, Category 0, Category 0, Category 0, Category 0]...\n",
       "Path: ../../../data/eminem\n",
       "x: LMTextList (50 items)\n",
       "[Text xxbos xxmaj guess who ? xxmaj you miss me ? xxmaj jessica xxmaj simpson sing the , xxmaj jessica xxmaj simpson xxmaj when you walked through the door xxmaj it was clear to me ( clear to me ) xxmaj you 're the one they adore , who they came to see ( who they came to see ) xxmaj you 're a , rock star ( baby ) xxmaj everybody wants you ( everybody wants you ) xxmaj player , who can really blame you ( who can really blame you ) xxmaj we 're the ones who ( chicka ) made you xxmaj back by popular demand xxmaj now pop a little xxmaj zantac or xxunk if you can xxmaj you 're ready to tackle any task that is at hand xxmaj how does it feel , is it fantastic , is it grand ? xxmaj well look at all the massive masses in the stands xxmaj shady man no do n't massacre the fans xxmaj damn , i think xxmaj kim xxmaj xxunk a man xxmaj she stomped him just cause he asked to put his hands xxmaj on her massive xxmaj gluteus maximus again xxmaj squeeze it , then xxmaj squish it , then pass it to her friend xxmaj can he come back as nasty as he can xxmaj yes he can , can , do n't ask me this again xxmaj he does not mean to lesbian offend xxmaj but xxmaj lindsay please come back to seeing men xxmaj samantha 's a two , you 're practically a ten i know you want me girl , in fact i see your grin ( xxmaj now come in girl ) xxmaj when you walked through the door xxmaj it was clear to me ( clear to me ) xxmaj you 're the one they adore , who they came to see ( who they came to see ) xxmaj you 're a , rock star ( baby ) xxmaj everybody wants you ( everybody wants you ) xxmaj player , who can really blame you ( who can really blame you ) xxmaj we 're the ones who ( chicka ) made you xxmaj the enforcer , looking for more women to torture xxmaj walk up to the cutest girl and xxmaj charlie xxmaj horse her xxmaj sorry xxmaj portia , but what 's xxmaj ellen degeneres xxmaj have that i do n't , are you telling me tenderness ? xxmaj well i can be as gentle and as smooth as a gentleman xxmaj give me my xxmaj ventolin inhaler and two xxmaj excedrin xxmaj and i 'll invite xxmaj sarah xxmaj palin out to dinner then xxmaj nail her , ' xxmaj baby say hello to my little friend ' xxmaj brit forget k - xxmaj fed let 's cut off the middle man xxmaj forget him or your gon na end up in the hospital again xxmaj and this time it wo n't be for the xxmaj ritalin binge xxmaj forget them other men , girl pay them little attention a little did i mention , that xxmaj jennifer 's in xxmaj love with me xxmaj john xxmaj mayer so sit on the bench xxmaj man i swear them other guys you give 'em an inch xxmaj they take a mile , they got style , but it is n't xxmaj slim xxmaj when you walked through the door xxmaj it was clear to me ( clear to me ) xxmaj you 're the one they adore , who they came to see ( who they came to see ) xxmaj you 're a , rock star ( baby ) xxmaj everybody wants you ( everybody wants you ) xxmaj player , who can really blame you ( who can really blame you ) xxmaj we 're the ones who made you xxmaj and that 's why , my love , you 'll never live without , i know you want me girl cause i can see you checking me out xxmaj and baby , you know , you know you want me too xxmaj do n't try to deny it baby , i 'm the only one for you xxmaj damn girl i 'm beginning to sprout an xxmaj alfalfa xxmaj why should i wash my filthy mouth out xxmaj you think that 's bad you should hear the rest of my album xxmaj never has there been such finesse and nostalgia xxmaj man xxmaj cash , i do n't mean to mess up your gal but xxmaj jessica xxmaj alba put a breast in my mouth xxmaj wowzers , i just made a mess of my trousers xxmaj and they wonder why i keep dressing like xxmaj elvis xxmaj lord help us he 's back in his pink xxmaj alf shirt xxmaj looking like someone shrinked his outfit i think he 's about to flip xxmaj jessica rest xxunk , xxmaj superman 's here to rescue ya xxmaj can you blame me ? xxmaj you 're my xxmaj amy , i 'm your xxmaj blake xxmaj matter fact bake me a birthday cake xxmaj with a saw blade in it to make my jail break xxmaj baby , i think you just met your soul mate ( xxmaj now break it down girl ) xxmaj when you walked through the door xxmaj it was clear to me ( clear to me ) xxmaj you 're the one they adore , who they came to see ( who they came to see ) xxmaj you 're a , rock star ( baby ) xxmaj everybody wants you ( everybody wants you ) xxmaj player , who can really blame you ( who can really blame you ) xxmaj we 're the ones who made you xxmaj so baby , baby , get down , down , down xxmaj baby , get down , down down xxmaj baby , get down , down down xxmaj baby , get down , get down xxmaj baby , get down , down down xxmaj baby , get down , down down xxmaj baby , get down , down down xxmaj baby , get down , get down xxmaj oh xxmaj amy , xxmaj rehab never looked so good , i ca n't wait , i 'm going back ! xxmaj ha ha woo ! xxmaj dr. xxmaj dre , 2020 , yeah < / p > ], Text xxbos xxmaj baby , your dada loves you xxmaj and i 'm a always be here for you xxmaj no matter what happens xxmaj you 're all i got in this world i would never give you up for nothing xxmaj nobody in this world is ever gon na keep you from me i love you xxmaj c'mon xxmaj hai - xxmaj hai , we going to the beach xxmaj grab a couple of toys and let xxmaj dada strap you in the car seat xxmaj oh , where 's xxmaj mama ? xxmaj she 's taking a little nap in the trunk xxmaj oh , that smell ? xxmaj dada must 've runned over a skunk xxmaj now , i know what you 're thinking xxmaj it 's kind of late to go swimmin ' xxmaj but you know your xxmaj mama , she 's one of those type of women that do crazy things xxmaj and if she do n't get her way , she 'll throw a fit xxmaj do n't play with xxmaj dada 's toy knife , honey , let go of it xxmaj and do n't look so upset , why you acting bashful ? xxmaj do n't you wanna help xxmaj dada build a xxunk ? xxmaj and xxmaj mama said she wants to show how far she can float xxmaj and do n't worry about that little boo - boo on her throat xxmaj it 's just a little scratch , it do n't hurt xxmaj her was eating dinner while you were xxunk and spilled ketchup on her shirt xxmaj mama 's messy , ai n't she ? xxmaj we 'll let her wash off in the water xxmaj and me and you can pway by ourselves , ca n't we ? xxmaj just the two of us , just the two of us xxmaj and when we ride xxmaj just the two of us , just the two of us xxmaj just you and i xxmaj just the two of us , just the two of us xxmaj and when we ride xxmaj just the two of us , just the two of us xxmaj see , honey xxmaj there 's a place called heaven and a place called hell a place called prison and a place called jail xxmaj and xxmaj dada 's probably on his way to all of 'em except one 'cause xxmaj mama 's got a new husband and a stepson xxmaj and you do n't want a brother , do ya ? xxmaj maybe when you 're old enough to understand a little better i 'll explain it to ya xxmaj but for now , we 'll just say xxmaj mama was real , real bad xxmaj was being mean to xxmaj dad and made him real , real mad xxmaj but i still feel sad that i put her on xxunk xxmaj sit back in your chair , honey , quit trying to climb out i told you it 's okay , xxmaj hai - xxmaj hai , want a ba - ba ? xxmaj take a night - night ? xxmaj nan - a - boo , goo - goo ga - ga ? xxmaj her make poo - poo ca - ca ? xxmaj dada change your xxunk xxmaj clean the baby up so her can take a nighty - nighty xxmaj your dad'll wake her up as soon as we get to the water ' 97 xxmaj bonnie and xxmaj clyde xxmaj me and my daughter xxmaj just the two of us , just the two of us xxmaj and when we ride xxmaj just the two of us , just the two of us xxmaj just you and i xxmaj just the two of us , just the two of us xxmaj and when we ride xxmaj just the two of us , just the two of us xxmaj just you and i xxmaj wake up , xxunk , we 're here , before we pway xxmaj we 're gon na take xxmaj mama for a wittle walk along the pier xxmaj baby , do n't cry , honey , do n't get the wrong idea xxmaj mama 's too sweepy to hear you screaming in her ear xxmaj that 's why you ca n't get her to wake , but do n't worry xxmaj dada made a nice bed for xxmaj mommy at the bottom of the lake xxmaj here , you wanna help xxmaj dada tie a rope around this rock ? xxmaj we 'll tie it to her footsie then we 'll roll her off the dock xxmaj ready now , here we go , on the count of free xxmaj one , two , free , whee ! xxmaj there goes xxmaj mama , xxunk in the water xxmaj no more fighting with xxmaj dad , no more restraining order xxmaj no more xxunk , no more new brother xxmaj blow her kisses bye - bye , tell xxmaj mama you xxunk her xxmaj now we 'll go play in the sand , build a castle and junk xxmaj but first , just help xxmaj dad with two more things out the trunk xxmaj just the two of us , just the two of us xxmaj and when we ride xxmaj just the two of us , just the two of us xxmaj just you and i xxmaj just the two of us , just the two of us xxmaj and when we ride xxmaj just the two of us , just the two of us xxmaj just you and i xxmaj just me and you , baby , is all we need in this world xxmaj just me and you xxmaj your dada will always be here for you xxmaj your dada 's always gon na love you xxmaj remember that xxmaj if you ever need me i 'm always be here for you xxmaj if you ever need anything , just ask xxmaj dada will be right there xxmaj your dada loves you i love you , baby < / p > ], Text xxbos a lotta people ask me xxmaj where the fuck i 've been at the last few years xxmaj shit , i do n't know xxmaj but i do know i 'm back now , haha xxmaj here comes the rain and thunder now xxmaj nowhere to run , to run to now i 'll disappear , you 'll wonder how xxmaj lookin ' for me , i 'm underground xxmaj here comes the rain and thunder now xxmaj nowhere to run , to run to now i 'll disappear , you 'll wonder how xxmaj lookin ' for me , i 'm underground xxmaj dre , i 'm down here under the ground xxmaj dig me up , broken xxunk , xxunk , yeah , fix me up 60 sluts , all of them dyin ' from xxunk xxmaj after they sip piss through xxmaj christopher xxmaj reeves xxunk cup xxmaj dixie cups , xxunk , boxes of xxunk pads xxmaj enough xxunk cotton to send a fuckin ' xxunk to rehab xxmaj whack job in a bag and a black xxunk ' cap xxmaj jackin ' off to a hockey mask at a xxunk ' match xxmaj he ca n't say that , yes he can i just did , faggot , now guess again xxmaj you better text message to your next of kin xxmaj tell 'em shit 's about to get extra messy especially when i flex again xxmaj throw a fuckin ' lesbian in xxunk men xxmaj so faggidy , faggidy , faggidy , xxunk xxmaj ann and xxmaj andy xxmaj no , xxunk , xxmaj andy and xxmaj andy , no , it ca n't be , it ca n't be xxmaj yes , it can be , the fuckin ' xxmaj xxunk is back xxmaj danny and xxmaj satan in black satin panties xxmaj this is xxmaj amityville , xxunk xxmaj goddamn it , insanity pills , fanny pack filled with xxunk xxmaj through every xxunk and xxunk , lookin ' for xxunk xxmaj milk and cookies spilled on my silk xxunk , lookie xxmaj razor blades with me to make you bleed xxmaj cases of xxmaj xxunk make up layin ' on the table with weed xxmaj slim xxmaj shady , shit sounds like a xxunk to me xxmaj until he jumps out of the fuckin ' toilet when you 're takin ' a pee xxmaj here comes the rain and thunder now xxmaj nowhere to run , to run to now i 'll disappear , you 'll wonder how xxmaj lookin ' for me , i 'm underground xxmaj here comes the rain and thunder now xxmaj nowhere to run , to run to now i 'll disappear , you 'll wonder how xxmaj lookin ' for me , i 'm underground xxmaj six semen xxunk , 17 xxunk of hair xxmaj found at the back of a van after the shoot with xxmaj vanity xxmaj fair xxmaj hannah xxmaj montana , prepare to elope with a can xxunk xxmaj and be cut open like xxunk and xxunk beds xxmaj and glad bags , yeah , glad to be back 'cause last year was a tragedy that landed me smack xxunk in rehab xxmaj fuckin ' doctor , i ai n't understand a damn word he said i planned to relapse the second i walked out of that bitch xxmaj two weeks in xxmaj brighton , i ai n't xxunk xxmaj bitin ' into a fuckin ' xxmaj vicadin like i 'm a xxmaj xxunk xxmaj oh , xxunk the xxunk ' , might be a fuckin ' sign i need a xxunk xxmaj xxunk , fuck xxmaj jason , it 's xxmaj friday the xxunk xxmaj that means is just a regular day xxmaj and this is the kind of shit i think of xxunk xxmaj fuckin ' lesbian should n't have had her legs in the way xxmaj now she 's pregnant and gay , missin ' both legs and beggin ' to stay xxmaj here comes the rain and thunder now xxmaj nowhere to run , to run to now i 'll disappear , you 'll wonder how xxmaj lookin ' for me , i 'm underground xxmaj here comes the rain and thunder now xxmaj nowhere to run , to run to now i 'll disappear , you 'll wonder how xxmaj lookin ' for me , i 'm underground xxmaj so tell the critics i 'm back and i 'm comin ' to spit it back in xxunk xxmaj hit a fag with xxunk and split a bag of xxmaj xxunk xxmaj mad at me ? xxmaj understandable , cannibal , shootin ' animal xxmaj light up a cannon and have him xxunk addin ' a dog xxmaj captain of the xxunk with an elite following xxmaj to turn xxmaj halloween back to a trick or treat holiday xxmaj have xxmaj micheal xxmaj myers lookin ' like a liar , swipe his powers xxmaj replace his knife with flowers and a stack of xxunk xxmaj hit xxmaj jason xxmaj xxunk with a 40 xxmaj stuck a xxunk up his ass and made him tell me a story xxmaj gave xxmaj hannibal xxmaj lecter a fuckin ' xxunk xxmaj and sat him in a fuckin ' fruit and xxunk section xxmaj and gave him a xxunk xxmaj walked up xxmaj elm xxmaj street with a fuckin ' xxunk bat , xxmaj drew xxmaj fought xxmaj freddy xxmaj krueger and xxmaj xxunk xxmaj xxunk , too xxmaj and came out with a little scratch , ooh xxmaj lookin ' like i got in a fuckin ' pillow fight with a triple fat goose xxmaj insanity , can it be vanity ? xxmaj where is the xxunk ? xxmaj and havin' a twisted fantasy with an arm and leg xxunk xxmaj straight jacket with a hundred eight xxunk xxmaj and a strap that xxunk twice around my back , then they latch it xxmaj cut your fuckin ' head off and ask you where you headed off to xxmaj get it , headed off to ? xxmaj medic , this headache 's awful xxmaj this xxunk 's pathetic , so 's this diabetic waffle xxmaj and this prosthetic arm keeps xxunk ' my hard taco xxmaj here comes the rain and thunder now xxmaj nowhere to run , to run to now i 'll disappear , you 'll wonder how xxmaj lookin ' for me , i 'm underground xxmaj here comes the rain and thunder now xxmaj nowhere to run , to run to now i 'll disappear , you 'll wonder how xxmaj lookin ' for me , i 'm underground xxmaj so , it was n't a choice , it was i had to do this xxmaj and now i got 90 days clean and that 's all i have to share , thanks xxmaj thanks for xxunk ' , xxmaj brian , is there anyone else xxmaj who would like to share this xxunk ' ? xxmaj yeah , i got somethin' to share xxmaj when you walked through the door you were queer to me xxmaj so come here , baby boy , just come here to me xxmaj you 're a cock boy , everybody wants you xxmaj you 're xxunk than you would ever claim to i wo n't have to rape you xxmaj so homie , lay down , down , down xxmaj lay down , down , down , lay down , down , down xxmaj lay down , lay down xxmaj where 's everybody goin' ? xxmaj this always went over real big in xxmaj gay a xxmaj okay wait , i got another one i just love condoms and xxunk of cum xxmaj no ? xxmaj oh shit < / p > ], Text xxbos xxmaj man , i need a lighter , man , right here xxmaj yeah , xxunk , xxmaj slim ? xxmaj what 's xxunk ' ? xxmaj hit this shit , shit , i almost hit this motherfucker today xxmaj is that right ? xxmaj what is it with motherfuckers thinkin ' that xxmaj because we 're in the spotlight or whatever that xxmaj they can do or say whatever they want to us xxmaj and that we wo n't retaliate xxmaj protect my motherfuckin ' self xxmaj by any means , xxunk , right ? 'cause you do n't know me , i do n't know you xxmaj so do n't approach me , i wo n't approach you xxmaj and do n't insult me , i wo n't insult you 'cause you do n't know what i will or i wo n't do 'cause you do n't know me , i do n't know you xxmaj so do n't approach me , i wo n't approach you xxmaj and do n't insult me , i wo n't insult you 'cause you do n't know what i will or i wo n't do xxmaj make no mistake , i 'm the xxmaj golden xxmaj state xxunk xxmaj bein ' xxunk gave me time to create it xxmaj can you relate ? i xxunk , straight out the gate xxmaj carried my weight but seem to xxunk nothin' but hate xxmaj xxunk snatchin ' xxunk off my little son plate xxmaj xxunk , locked in a trunk , get shot in the face xxmaj no hoes , no clothes , no one showin ' up for my shows xxmaj you know how it goes , i might as well kick it at home xxmaj but my baby momma hate my guts and ca n't stand me ( xxmaj yeah ) xxmaj packed up , moved out , started a new family xxmaj so all this xxunk ' for what so i can blow up xxmaj marry a slut but ca n't watch my seed grow up ? xxmaj fuck that , this the fuckin ' thanks i get xxmaj for tryin ' to xxunk assholes and feed my bitch xxmaj yo , i feel like my whole life is upside down ( xxmaj upside down ) 'cause you seein ' more support than i 'm seein ' my child xxmaj it 's like everyday i wake up , another drama xxmaj it 's a wonder i 'm alive , xxunk ' this karma xxmaj if i can hold on to my private life for five minutes longer i might get my wife to let go of this knife and just calm her xxmaj without these cameras in our faces like animals xxmaj for your xxmaj channel 2 xxmaj action xxmaj news to follow our ambulance up the xxunk xxmaj and catch a xxunk of all the suicide xxunk xxmaj and what we do in private since they wo n't let us put up a fence xxmaj and you wonder why i carry every gun under the sun xxmaj whether it 's xxunk full or an xxunk one xxmaj no bullet , you 're so full of shit xxmaj this clip is so full it 'll spit if i do n't pull it xxmaj and do n't give me no bullshit , i 'm not in the mood i just got in a xxunk in some parkin ' lot with a dude xxmaj over xxmaj kim and she just slit both of her wrists over the shit xxmaj do n't tell me bout the show business shit i know what this is , bitch 'cause you do n't know me , i do n't know you xxmaj so do n't approach me , i wo n't approach you xxmaj and do n't insult me , i wo n't insult you 'cause you do n't know what i will or i wo n't do 'cause you do n't know me , i do n't know you xxmaj so do n't approach me , i wo n't approach you xxmaj and do n't insult me , i wo n't insult you 'cause you do n't know what i will or i wo n't do xxmaj this ai n't business , this is personal bitch xxmaj you do n't know xxmaj xzibit from shit , new school , class xxunk i had a very fucked up day , i 'm xxunk ' this fit xxmaj xxunk ' motherfuckers up like they xxunk ' the 5th xxmaj yo xxmaj em , it 's time to get serious with it ( xxmaj yeah ) xxmaj time for everybody to feel it , similar to the egg in the skillet xxmaj this is your brain on drugs , xxmaj xzibit brain on thugs xxmaj ai n't no neighborhood that 's big enough to bang on us xxmaj ai n't no love , lost my niggaz , relax yourself i 'm about to snatch it all and start xxunk ' the wealth xxmaj to my niggaz who never seen it , i mean it when i holla xxmaj at the top of my lungs , about my guns and my loved ones xxmaj got xxunk of ammo to crack your xxunk xxmaj changin ' your channel , you played like a fuckin ' piano xxmaj ridin ' slow through xxmaj cali like i 'm ridin ' a xxunk xxmaj millionaire motherfuckers with their brains in their xxunk i feel like , xxmaj tony xxmaj xxunk , who do i trust now ? xxmaj just hit me on my xxunk ' , nigga , soon as i touch down xxmaj spit lines to split xxunk just to get mine xxmaj big behind bitches gettin ' dick to spit shine xxmaj sniff lines of coke that 's the only shit that make you dope xxmaj bitch - ass nigga that 's droppin ' the soap xxmaj get choked out and beat , put your head in a xxunk - grip xxmaj and turn til you motherfuckers tell me the right shit xxmaj so do i got ta buy a whole block to myself a front door with twelve xxunk xxmaj and have a xxunk walk me out to my mailbox xxmaj and every time somebody makes a threat , run and tell cops ? xxmaj fuck that , i protect myself with these twelve shots xxmaj and one in the chamber , gun in the waist and one in the ankle , waitin ' for someone to come to my place xxmaj tryin ' to walk up and knock like these cocksuckers are not xxmaj gon na get a shotgun or a glock shoved in their face ? xxmaj and it 's a xxunk , xxmaj hailey ca n't play with her toys xxmaj in the front yard without you drivin ' by xxunk ' your horn xxmaj screamin ' some shit , leanin ' out your windows , xxunk ' ' n ' shit xxmaj or pullin ' up in my drive like i wo n't leap in your whip xxmaj and so these kids tell their friends and xxunk where i live xxmaj so my address ends up on the xxmaj internet again xxmaj so then , i do an xxunk with xxmaj spin , tellin ' them xxmaj that if someone comes to my crib i 'm a shove a gun in their ribs xxmaj and xxunk , blow it out of proportion \" xxmaj oh , now he 's pullin ' guns on his fans xxmaj just for tryin ' to stand on his porch \" xxmaj and i 'm the bad guy 'cause i do n't answer my door like \" xxmaj hey , hi ! xxmaj you guys wants some autographs ? xxmaj okay , form a straight line \" xxmaj sometimes i feel like xxunk ' this xxunk xxmaj and xxunk ' the roof at night xxmaj and hidin ' outside to xxunk you xxmaj it 's not that i do n't like you xxmaj it 's just that i 'm not behind the mic i 'm a person who 's just like you < / p > ], Text xxbos xxmaj woah , uh get your hands in the air xxmaj and get to clapping 'em and , like , back and forth xxmaj because this is what you thought it was n't xxmaj it be 's the brothers representin ' the xxmaj dirty xxmaj dozen i be the f - r - o the double g xxmaj and check out my man , he goes by the name of um , er … xxmaj slim xxmaj shady , brain dead like xxmaj jim xxmaj brady i 'm an xxup m-80 , you little like that xxmaj kim lady i 'm buzzin ' , xxmaj dirty xxmaj dozen , naughty rotten rhymer xxmaj cursin ' at you playas worse than xxmaj marty xxmaj schottenheimer xxmaj you wacker than the motherfucker you bit your style from xxmaj you ai n't gon ' sell two copies if you press a double album xxmaj admit it , fuck it , while we coming out in the open i 'm doing acid , crack , smack , coke and smoking dope then xxmaj my name is xxmaj marshall xxmaj mathers , i 'm an alcoholic \" xxmaj hi , xxmaj marshall ! \" i have a disease , and they do n't know what to call it xxmaj better hide your wallet 'cause i 'm coming up quick to strip your cash xxmaj bought a ticket to your concert just to come and whip your ass xxmaj bitch , i 'm coming out swingin ' , so fast it 'll make your eyes spin xxmaj you getting knocked the fuck out like xxmaj mike xxmaj tyson xxmaj the proof is in the pudding , just ask deshaun xxmaj holton i 'll slit your motherfucking throat worse than xxmaj ron xxmaj goldman xxmaj so when you see me on your block with two xxmaj glocks xxmaj screaming \" xxmaj fuck the world \" like xxmaj tupac i just do n't give a fuck xxmaj talking that shit behind my back xxmaj dirty macking , telling your boys that i 'm on crack i just do n't give a fuck xxmaj so put my tape back on the rack xxmaj go run and tell your friends my shit is wack i just do n't give a fuck xxmaj but see me on the street and duck 'cause you gon ' get stuck , stoned , and snuffed 'cause i just do n't give a fuck i 'm nicer than xxmaj pete , but i 'm on a search to crush a milkbone i 'm everlasting , i melt vanilla ice like silicone i 'm ill enough to just straight up diss you for no reason i 'm colder than snow season when it 's 20 below freezin ' xxmaj flavor with no seasonin ' , this is the sneak preview i 'll diss your magazine and still wo n't get a weak review i 'll make your freak leave you , smell the xxmaj folgers crystals xxmaj this is lyrical combat , gentlemen , hold your pistols xxmaj but i form like xxmaj voltron and blast you with my shoulder missiles xxmaj slim xxmaj shady , xxmaj eminem was the old initials xxmaj extortion , snortin ' , supportin ' abortion xxmaj pathological liar , blowing shit out of proportion xxmaj the looniest , zaniest , spontaneous , sporadic xxmaj impulsive thinker , compulsive drinker , addict xxmaj half animal , half man xxmaj dumping your dead body inside of a fucking trash can xxmaj with more holes than an afghan xxmaj so when you see me on your block with two xxmaj glocks xxmaj screaming \" xxmaj fuck the world \" like xxmaj tupac i just do n't give a fuck xxmaj talking that shit behind my back xxmaj dirty macking , telling your boys that i 'm on crack i just do n't give a fuck xxmaj so put my tape back on the rack xxmaj go run and tell your friends my shit is wack i just do n't give a fuck xxmaj but see me on the street and duck 'cause you finna get stuck , stoned , and snuffed 'cause i just do n't give a fuck xxmaj somebody let me out this limousine ! i 'm a caged demon xxmaj on stage screamin ' like xxmaj rage xxmaj against the xxmaj machine i 'm convinced i 'm a fiend xxmaj shooting up while this record is spinnin ' xxmaj clinically brain dead , i do n't need a second opinion xxmaj fuck droppin ' a jewel , i 'm flippin ' a sacred treasure i 'll bite your motherfuckin ' style , just to make it fresher i ca n't take the pressure , i 'm sick of bitches xxmaj sick of nagging bosses bitchin ' while i 'm washin ' dishes xxmaj in school i never said much , too busy having a headrush xxmaj doing too much rush had my face flushed like red blush xxmaj then i went to xxmaj jim xxmaj beam , that 's when my face grayed xxmaj went to gym in 8th grade , ( raped ) the women 's swim team xxmaj do n't take me for a joke , i 'm no comedian xxmaj too many mental problems got me snortin ' coke and smokin ' weed again i 'm going up over the curb , driving on the median xxmaj finally made it home , but i do n't got the key to get in xxmaj so when you see me on your block with two xxmaj glocks xxmaj screaming \" xxmaj fuck the world \" like xxmaj tupac i just do n't give a fuck xxmaj talking that shit behind my back xxmaj dirty macking , telling your boys that i 'm on crack i just do n't give a fuck xxmaj so put my tape back on the rack xxmaj go run and tell your friends my shit is wack i just do n't give a fuck xxmaj but see me on the street and duck 'cause you gon ' get stuck , stoned , and snuffed 'cause i just do n't give a fuck xxmaj shit , fuck everybody ! xxmaj outsidaz xxmaj pacewon xxmaj young xxmaj zee xxmaj fuck the entire world ! < / p > ]]...\n",
       "Path: ../../../data/eminem;\n",
       "\n",
       "Test: None, model=SequentialRNN(\n",
       "  (0): RNNCore(\n",
       "    (encoder): Embedding(6450, 400, padding_idx=1)\n",
       "    (encoder_dp): EmbeddingDropout(\n",
       "      (emb): Embedding(6450, 400, padding_idx=1)\n",
       "    )\n",
       "    (rnns): ModuleList(\n",
       "      (0): WeightDropout(\n",
       "        (module): LSTM(400, 1150)\n",
       "      )\n",
       "      (1): WeightDropout(\n",
       "        (module): LSTM(1150, 1150)\n",
       "      )\n",
       "      (2): WeightDropout(\n",
       "        (module): LSTM(1150, 400)\n",
       "      )\n",
       "    )\n",
       "    (input_dp): RNNDropout()\n",
       "    (hidden_dps): ModuleList(\n",
       "      (0): RNNDropout()\n",
       "      (1): RNNDropout()\n",
       "      (2): RNNDropout()\n",
       "    )\n",
       "  )\n",
       "  (1): LinearDecoder(\n",
       "    (decoder): Linear(in_features=400, out_features=6450, bias=True)\n",
       "    (output_dp): RNNDropout()\n",
       "  )\n",
       "), opt_func=functools.partial(<class 'torch.optim.adam.Adam'>, betas=(0.9, 0.99)), loss_func=<fastai.layers.FlattenedLoss object at 0x7f0e26fe79e8>, metrics=[<function accuracy at 0x7f0e2c883c80>], true_wd=True, bn_wd=True, wd=0.01, train_bn=True, path=PosixPath('../../../data/eminem'), model_dir='models', callback_fns=[<class 'fastai.basic_train.Recorder'>], callbacks=[...], layer_groups=[Sequential(\n",
       "  (0): WeightDropout(\n",
       "    (module): LSTM(400, 1150)\n",
       "  )\n",
       "  (1): RNNDropout()\n",
       "), Sequential(\n",
       "  (0): WeightDropout(\n",
       "    (module): LSTM(1150, 1150)\n",
       "  )\n",
       "  (1): RNNDropout()\n",
       "), Sequential(\n",
       "  (0): WeightDropout(\n",
       "    (module): LSTM(1150, 400)\n",
       "  )\n",
       "  (1): RNNDropout()\n",
       "), Sequential(\n",
       "  (0): Embedding(6450, 400, padding_idx=1)\n",
       "  (1): EmbeddingDropout(\n",
       "    (emb): Embedding(6450, 400, padding_idx=1)\n",
       "  )\n",
       "  (2): LinearDecoder(\n",
       "    (decoder): Linear(in_features=400, out_features=6450, bias=True)\n",
       "    (output_dp): RNNDropout()\n",
       "  )\n",
       ")]), bptt=70, alpha=2.0, beta=1.0, adjust=False)], layer_groups=[Sequential(\n",
       "  (0): WeightDropout(\n",
       "    (module): LSTM(400, 1150)\n",
       "  )\n",
       "  (1): RNNDropout()\n",
       "), Sequential(\n",
       "  (0): WeightDropout(\n",
       "    (module): LSTM(1150, 1150)\n",
       "  )\n",
       "  (1): RNNDropout()\n",
       "), Sequential(\n",
       "  (0): WeightDropout(\n",
       "    (module): LSTM(1150, 400)\n",
       "  )\n",
       "  (1): RNNDropout()\n",
       "), Sequential(\n",
       "  (0): Embedding(6450, 400, padding_idx=1)\n",
       "  (1): EmbeddingDropout(\n",
       "    (emb): Embedding(6450, 400, padding_idx=1)\n",
       "  )\n",
       "  (2): LinearDecoder(\n",
       "    (decoder): Linear(in_features=400, out_features=6450, bias=True)\n",
       "    (output_dp): RNNDropout()\n",
       "  )\n",
       ")])"
      ]
     },
     "execution_count": 28,
     "metadata": {},
     "output_type": "execute_result"
    }
   ],
   "source": [
    "learn.load('s2_eminem_fine_tuned_v1')"
   ]
  },
  {
   "cell_type": "code",
   "execution_count": 32,
   "metadata": {},
   "outputs": [],
   "source": [
    "TEXT = \"You assuming\"\n",
    "N_WORDS = 40\n",
    "N_SENTENCES = 2"
   ]
  },
  {
   "cell_type": "code",
   "execution_count": 33,
   "metadata": {},
   "outputs": [
    {
     "name": "stdout",
     "output_type": "stream",
     "text": [
      "You assuming i 'm with you think that you 're all bound to you and i 'm for you toy , i 'm a turn g do n't let 's shut the stick down xxmaj you 'll never get no chance !\n",
      "You assuming i 'm a xxmaj muslim but you want us any task to my brain xxmaj ai n't none hip - hop xxmaj i'mma grow ya 's sit there to hear that shit xxmaj plus i 'm gon na answer fans\n"
     ]
    }
   ],
   "source": [
    "print(\"\\n\".join(learn.predict(TEXT, N_WORDS) for _ in range(N_SENTENCES)))"
   ]
  },
  {
   "cell_type": "code",
   "execution_count": 34,
   "metadata": {},
   "outputs": [
    {
     "name": "stdout",
     "output_type": "stream",
     "text": [
      "You assuming i 'm a star , i 'm your biggest fan xxmaj ever since xxmaj tupac xxmaj ah was an insane xxmaj if it was n't for the shit you 'd say to sell records xxmaj magic xxmaj skam , i\n",
      "You assuming i 'm a be so i 'll never give a fuck but < / p > ] xxbos xxmaj sometimes i feel like the been out i like these games , but take a look at my family cause the\n"
     ]
    }
   ],
   "source": [
    "print(\"\\n\".join(learn.predict(TEXT, N_WORDS) for _ in range(N_SENTENCES)))"
   ]
  },
  {
   "cell_type": "code",
   "execution_count": 35,
   "metadata": {},
   "outputs": [
    {
     "name": "stdout",
     "output_type": "stream",
     "text": [
      "You assuming i 'm xxmaj slim xxmaj shady xxmaj records xxmaj you 're the one they adore , who they came to see ( who theycame to see ) ) xxmaj you 're a rockstar ( baby ) xxmaj everybody wants you\n",
      "You assuming i 'm , these are you xxmaj my xxmaj god , i know who you are i be in this xxmaj mobile xxmaj and did n't know what it was , baby , 'cause i ai n't scared i just\n"
     ]
    }
   ],
   "source": [
    "print(\"\\n\".join(learn.predict(TEXT, N_WORDS) for _ in range(N_SENTENCES)))"
   ]
  },
  {
   "cell_type": "code",
   "execution_count": null,
   "metadata": {},
   "outputs": [],
   "source": []
  }
 ],
 "metadata": {
  "kernelspec": {
   "display_name": "Python 3",
   "language": "python",
   "name": "python3"
  },
  "language_info": {
   "codemirror_mode": {
    "name": "ipython",
    "version": 3
   },
   "file_extension": ".py",
   "mimetype": "text/x-python",
   "name": "python",
   "nbconvert_exporter": "python",
   "pygments_lexer": "ipython3",
   "version": "3.7.1"
  }
 },
 "nbformat": 4,
 "nbformat_minor": 2
}
