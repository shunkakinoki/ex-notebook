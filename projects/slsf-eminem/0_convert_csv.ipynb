{
 "cells": [
  {
   "cell_type": "markdown",
   "metadata": {},
   "source": [
    "Eminem Data from https://www.kaggle.com/alogicperson/eminem-dataset-show"
   ]
  },
  {
   "cell_type": "code",
   "execution_count": 1,
   "metadata": {},
   "outputs": [
    {
     "data": {
      "text/plain": [
       "'/home/ubuntu/anaconda3/envs/fastai/bin/python'"
      ]
     },
     "execution_count": 1,
     "metadata": {},
     "output_type": "execute_result"
    }
   ],
   "source": [
    "import sys\n",
    "sys.executable"
   ]
  },
  {
   "cell_type": "code",
   "execution_count": 2,
   "metadata": {},
   "outputs": [],
   "source": [
    "%reload_ext autoreload\n",
    "%autoreload 2\n",
    "%matplotlib inline"
   ]
  },
  {
   "cell_type": "code",
   "execution_count": 5,
   "metadata": {},
   "outputs": [],
   "source": [
    "from fastai import *\n",
    "from fastai.text import *"
   ]
  },
  {
   "cell_type": "code",
   "execution_count": 6,
   "metadata": {},
   "outputs": [],
   "source": [
    "DATA_PATH = Path('../../../data/eminem/')\n",
    "CSV_PATH = Path('../../../data/eminem/eminem.csv')"
   ]
  },
  {
   "cell_type": "code",
   "execution_count": 7,
   "metadata": {},
   "outputs": [
    {
     "data": {
      "text/html": [
       "<div>\n",
       "<style scoped>\n",
       "    .dataframe tbody tr th:only-of-type {\n",
       "        vertical-align: middle;\n",
       "    }\n",
       "\n",
       "    .dataframe tbody tr th {\n",
       "        vertical-align: top;\n",
       "    }\n",
       "\n",
       "    .dataframe thead th {\n",
       "        text-align: right;\n",
       "    }\n",
       "</style>\n",
       "<table border=\"1\" class=\"dataframe\">\n",
       "  <thead>\n",
       "    <tr style=\"text-align: right;\">\n",
       "      <th></th>\n",
       "      <th>Unnamed: 0</th>\n",
       "      <th>text</th>\n",
       "      <th>Song</th>\n",
       "      <th>Album</th>\n",
       "      <th>Text_lenght</th>\n",
       "      <th>Year</th>\n",
       "    </tr>\n",
       "  </thead>\n",
       "  <tbody>\n",
       "    <tr>\n",
       "      <th>0</th>\n",
       "      <td>0</td>\n",
       "      <td>Eminem]\\nPeace to Thirstin Howl, A.L. and Word...</td>\n",
       "      <td>eminem and dilated peoples freestyle</td>\n",
       "      <td>Miscellaneous</td>\n",
       "      <td>2156</td>\n",
       "      <td>NaN</td>\n",
       "    </tr>\n",
       "    <tr>\n",
       "      <th>1</th>\n",
       "      <td>1</td>\n",
       "      <td>\\nI reckon you ain't familiar with these here ...</td>\n",
       "      <td>bad meets evil</td>\n",
       "      <td>The Slim Shady LP</td>\n",
       "      <td>4064</td>\n",
       "      <td>NaN</td>\n",
       "    </tr>\n",
       "    <tr>\n",
       "      <th>2</th>\n",
       "      <td>2</td>\n",
       "      <td>\\nLately I've been hard to reach\\nI've been to...</td>\n",
       "      <td>beautiful</td>\n",
       "      <td>Relapse</td>\n",
       "      <td>4927</td>\n",
       "      <td>2009.0</td>\n",
       "    </tr>\n",
       "    <tr>\n",
       "      <th>3</th>\n",
       "      <td>3</td>\n",
       "      <td>\\nEminem\\nMiscellaneous\\nB-Rabbit Vs. Papa Doc...</td>\n",
       "      <td>b rabbit vs papa doc freestyle from 8 mile</td>\n",
       "      <td>Miscellaneous</td>\n",
       "      <td>1646</td>\n",
       "      <td>NaN</td>\n",
       "    </tr>\n",
       "    <tr>\n",
       "      <th>4</th>\n",
       "      <td>4</td>\n",
       "      <td>\\nEminem\\nMiscellaneous\\nEminem Exclusive Free...</td>\n",
       "      <td>eminem exclusive freestyle</td>\n",
       "      <td>Miscellaneous</td>\n",
       "      <td>1244</td>\n",
       "      <td>NaN</td>\n",
       "    </tr>\n",
       "    <tr>\n",
       "      <th>5</th>\n",
       "      <td>5</td>\n",
       "      <td>\\nMy tea's gone cold I'm wondering why I?\\nGot...</td>\n",
       "      <td>stan</td>\n",
       "      <td>The Marshall Mathers LP</td>\n",
       "      <td>6460</td>\n",
       "      <td>2000.0</td>\n",
       "    </tr>\n",
       "    <tr>\n",
       "      <th>6</th>\n",
       "      <td>6</td>\n",
       "      <td>\\nI'll be\\n\\nThe way you shake it\\nI can't bel...</td>\n",
       "      <td>ass like that</td>\n",
       "      <td>Encore</td>\n",
       "      <td>3521</td>\n",
       "      <td>2004.0</td>\n",
       "    </tr>\n",
       "    <tr>\n",
       "      <th>7</th>\n",
       "      <td>7</td>\n",
       "      <td>\\nYeah, I know sometimes\\nThings may not alway...</td>\n",
       "      <td>mockingbird</td>\n",
       "      <td>Encore</td>\n",
       "      <td>4509</td>\n",
       "      <td>2004.0</td>\n",
       "    </tr>\n",
       "    <tr>\n",
       "      <th>8</th>\n",
       "      <td>8</td>\n",
       "      <td>\\nEm, it's Paul, listen\\nJoel just called me a...</td>\n",
       "      <td>paul rosenberg skit</td>\n",
       "      <td>The Eminem Show</td>\n",
       "      <td>390</td>\n",
       "      <td>2002.0</td>\n",
       "    </tr>\n",
       "    <tr>\n",
       "      <th>9</th>\n",
       "      <td>9</td>\n",
       "      <td>\\nWho came through with two Glocks to terroriz...</td>\n",
       "      <td>i m shady</td>\n",
       "      <td>The Slim Shady LP</td>\n",
       "      <td>3058</td>\n",
       "      <td>NaN</td>\n",
       "    </tr>\n",
       "  </tbody>\n",
       "</table>\n",
       "</div>"
      ],
      "text/plain": [
       "   Unnamed: 0                                               text  \\\n",
       "0           0  Eminem]\\nPeace to Thirstin Howl, A.L. and Word...   \n",
       "1           1  \\nI reckon you ain't familiar with these here ...   \n",
       "2           2  \\nLately I've been hard to reach\\nI've been to...   \n",
       "3           3  \\nEminem\\nMiscellaneous\\nB-Rabbit Vs. Papa Doc...   \n",
       "4           4  \\nEminem\\nMiscellaneous\\nEminem Exclusive Free...   \n",
       "5           5  \\nMy tea's gone cold I'm wondering why I?\\nGot...   \n",
       "6           6  \\nI'll be\\n\\nThe way you shake it\\nI can't bel...   \n",
       "7           7  \\nYeah, I know sometimes\\nThings may not alway...   \n",
       "8           8  \\nEm, it's Paul, listen\\nJoel just called me a...   \n",
       "9           9  \\nWho came through with two Glocks to terroriz...   \n",
       "\n",
       "                                         Song                    Album  \\\n",
       "0        eminem and dilated peoples freestyle            Miscellaneous   \n",
       "1                              bad meets evil        The Slim Shady LP   \n",
       "2                                   beautiful                  Relapse   \n",
       "3  b rabbit vs papa doc freestyle from 8 mile            Miscellaneous   \n",
       "4                  eminem exclusive freestyle            Miscellaneous   \n",
       "5                                        stan  The Marshall Mathers LP   \n",
       "6                               ass like that                   Encore   \n",
       "7                                 mockingbird                   Encore   \n",
       "8                         paul rosenberg skit          The Eminem Show   \n",
       "9                                   i m shady        The Slim Shady LP   \n",
       "\n",
       "   Text_lenght    Year  \n",
       "0         2156     NaN  \n",
       "1         4064     NaN  \n",
       "2         4927  2009.0  \n",
       "3         1646     NaN  \n",
       "4         1244     NaN  \n",
       "5         6460  2000.0  \n",
       "6         3521  2004.0  \n",
       "7         4509  2004.0  \n",
       "8          390  2002.0  \n",
       "9         3058     NaN  "
      ]
     },
     "execution_count": 7,
     "metadata": {},
     "output_type": "execute_result"
    }
   ],
   "source": [
    "df = pd.read_csv(CSV_PATH);\n",
    "df.head(n=10)"
   ]
  },
  {
   "cell_type": "code",
   "execution_count": 16,
   "metadata": {},
   "outputs": [],
   "source": [
    "df = df.replace(r'\\n',' ', regex=True)"
   ]
  },
  {
   "cell_type": "code",
   "execution_count": 17,
   "metadata": {},
   "outputs": [
    {
     "data": {
      "text/plain": [
       "'Eminem] Peace to Thirstin Howl, A.L. and Wordsworth My mother smoked crack, I had a premature birth I\\'m just a nerd cursed, wit badly disturbed nerves Who wanna be the one to step up and get served first? Ninety-nine percent of aliens prefer earth So I\\'m here to rule the planet, startin wit your turf I hid a secret message inside of a wordsearch Wit smeard letters, runnin together in blurred spurts I hang wit male chauvinist pigs and perverts Who point water pistols at women and squirt shirts Been a bad boy since diapers and Gerber\\'s My first words were \"Bleep bleep\" and \"Curse curse\" Never had ish, and I still don\\'t deserve dirt My breath still stinks and I\\'m on my third Certs Yankin out my stitches, hollering \"Nurse nurse!\" \"You said this shot would numb it, trick it just hurts worse!\" Grew up in a dump next door to a burnt church But gunshots drowned out crickets and bird chirps And it\\'s like that, and it\\'s like that  Evidence] Got no apathy Yo I Platform my strategy, mix words in alchemy Evidence, I won\\'t get caught shot on the balcony Between you and I, I\\'ll tell you here\\'s the diff Gun to your head, you\\'re dead, pointblank I shapeshift That\\'s right, to dear/deer, anelope, or owl In life, use your potential, or Steve Howe I\\'m about to call it quits, yo too much weight\\'ll break your rack mount The man\\'ll make you move, yo so make your move a backout You say I use my name too much as a clutch Try holdin on to beat instead of pushin on your crutch Flipped it backwards, Evidence attack nerds off the head Steadfast, right or left, don\\'t matter see you comin  Deaf/Def like Leppards, pop the piece, I be the sheppard Causin the herd, the name is Ev absurd Verbs get flipped, it\\'s like this, yo acronyms and all that Methaphor imagery, you claimin metaphors and spittin similies Not havin It, the name is Evidence Like Pos. K gibbin the life thinkin of stabbin it Skills prevail you possess, take no offense But don\\'t profess lies within your mind, tempt and stress  Iriscience] It\\'s like uh-oh-oh It\\'s Dilated Peoples on the Wake Up Show-uh-oh We kick a lick or some for the radio-uh-oh Yo CaTashTrophic like Rico *fades out*</p> ]'"
      ]
     },
     "execution_count": 17,
     "metadata": {},
     "output_type": "execute_result"
    }
   ],
   "source": [
    "df['text'][0]"
   ]
  },
  {
   "cell_type": "code",
   "execution_count": 18,
   "metadata": {},
   "outputs": [],
   "source": [
    "new_df = df.drop(columns=['Unnamed: 0', 'Song', 'Album', 'Text_lenght', 'Year'])"
   ]
  },
  {
   "cell_type": "code",
   "execution_count": 19,
   "metadata": {},
   "outputs": [
    {
     "data": {
      "text/html": [
       "<div>\n",
       "<style scoped>\n",
       "    .dataframe tbody tr th:only-of-type {\n",
       "        vertical-align: middle;\n",
       "    }\n",
       "\n",
       "    .dataframe tbody tr th {\n",
       "        vertical-align: top;\n",
       "    }\n",
       "\n",
       "    .dataframe thead th {\n",
       "        text-align: right;\n",
       "    }\n",
       "</style>\n",
       "<table border=\"1\" class=\"dataframe\">\n",
       "  <thead>\n",
       "    <tr style=\"text-align: right;\">\n",
       "      <th></th>\n",
       "      <th>text</th>\n",
       "    </tr>\n",
       "  </thead>\n",
       "  <tbody>\n",
       "    <tr>\n",
       "      <th>0</th>\n",
       "      <td>Eminem] Peace to Thirstin Howl, A.L. and Words...</td>\n",
       "    </tr>\n",
       "    <tr>\n",
       "      <th>1</th>\n",
       "      <td>I reckon you ain't familiar with these here p...</td>\n",
       "    </tr>\n",
       "    <tr>\n",
       "      <th>2</th>\n",
       "      <td>Lately I've been hard to reach I've been too ...</td>\n",
       "    </tr>\n",
       "    <tr>\n",
       "      <th>3</th>\n",
       "      <td>Eminem Miscellaneous B-Rabbit Vs. Papa Doc (F...</td>\n",
       "    </tr>\n",
       "    <tr>\n",
       "      <th>4</th>\n",
       "      <td>Eminem Miscellaneous Eminem Exclusive Freesty...</td>\n",
       "    </tr>\n",
       "  </tbody>\n",
       "</table>\n",
       "</div>"
      ],
      "text/plain": [
       "                                                text\n",
       "0  Eminem] Peace to Thirstin Howl, A.L. and Words...\n",
       "1   I reckon you ain't familiar with these here p...\n",
       "2   Lately I've been hard to reach I've been too ...\n",
       "3   Eminem Miscellaneous B-Rabbit Vs. Papa Doc (F...\n",
       "4   Eminem Miscellaneous Eminem Exclusive Freesty..."
      ]
     },
     "execution_count": 19,
     "metadata": {},
     "output_type": "execute_result"
    }
   ],
   "source": [
    "new_df.head()"
   ]
  },
  {
   "cell_type": "code",
   "execution_count": 33,
   "metadata": {},
   "outputs": [],
   "source": [
    "new_df.to_csv(DATA_PATH/'text_eminem.csv', index=False)"
   ]
  },
  {
   "cell_type": "code",
   "execution_count": null,
   "metadata": {},
   "outputs": [],
   "source": []
  }
 ],
 "metadata": {
  "kernelspec": {
   "display_name": "Python [conda env:fastai]",
   "language": "python",
   "name": "conda-env-fastai-py"
  },
  "language_info": {
   "codemirror_mode": {
    "name": "ipython",
    "version": 3
   },
   "file_extension": ".py",
   "mimetype": "text/x-python",
   "name": "python",
   "nbconvert_exporter": "python",
   "pygments_lexer": "ipython3",
   "version": "3.7.2"
  }
 },
 "nbformat": 4,
 "nbformat_minor": 2
}
