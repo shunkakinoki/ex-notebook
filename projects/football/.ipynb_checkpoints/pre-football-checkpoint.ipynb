{
 "cells": [
  {
   "cell_type": "code",
   "execution_count": 1,
   "metadata": {},
   "outputs": [
    {
     "name": "stderr",
     "output_type": "stream",
     "text": [
      "/home/ubuntu/src/anaconda3/envs/fastai/lib/python3.6/site-packages/sklearn/ensemble/weight_boosting.py:29: DeprecationWarning: numpy.core.umath_tests is an internal NumPy module and should not be imported. It will be removed in a future NumPy release.\n",
      "  from numpy.core.umath_tests import inner1d\n"
     ]
    }
   ],
   "source": [
    "%reload_ext autoreload\n",
    "%autoreload 2\n",
    "%matplotlib inline\n",
    "\n",
    "import sys\n",
    "sys.path.append('/home/ubuntu/fastai/')\n",
    "from fastai.imports import *"
   ]
  },
  {
   "cell_type": "code",
   "execution_count": 2,
   "metadata": {},
   "outputs": [],
   "source": [
    "import warnings\n",
    "warnings.simplefilter('ignore', UserWarning)\n",
    "warnings.simplefilter('ignore', DeprecationWarning)"
   ]
  },
  {
   "cell_type": "code",
   "execution_count": 3,
   "metadata": {},
   "outputs": [],
   "source": [
    "from fastai.transforms import *\n",
    "from fastai.conv_learner import *\n",
    "from fastai.model import *\n",
    "from fastai.dataset import *\n",
    "from fastai.sgdr import *\n",
    "from fastai.plots import *"
   ]
  },
  {
   "cell_type": "code",
   "execution_count": 25,
   "metadata": {},
   "outputs": [],
   "source": [
    "from PIL import Image\n",
    "import os \n",
    "import shutil"
   ]
  },
  {
   "cell_type": "code",
   "execution_count": 5,
   "metadata": {},
   "outputs": [
    {
     "data": {
      "text/plain": [
       "['dl1notes', 'dl2notes', '.ipynb_checkpoints', '.DS_Store', 'football.ipynb']"
      ]
     },
     "execution_count": 5,
     "metadata": {},
     "output_type": "execute_result"
    }
   ],
   "source": [
    "os.listdir()"
   ]
  },
  {
   "cell_type": "code",
   "execution_count": 6,
   "metadata": {},
   "outputs": [],
   "source": [
    "PATH = \"/home/ubuntu/data/football/\""
   ]
  },
  {
   "cell_type": "code",
   "execution_count": 63,
   "metadata": {},
   "outputs": [],
   "source": [
    "VALID_PATH = PATH + 'valid/'\n",
    "TRAIN_PATH = PATH + 'train/'\n",
    "TEST_PATH = PATH + 'test/'"
   ]
  },
  {
   "cell_type": "code",
   "execution_count": 8,
   "metadata": {},
   "outputs": [],
   "source": [
    "AMERICAN_PATH = PATH + 'american/'\n",
    "SOCCER_PATH = PATH + 'soccer/'"
   ]
  },
  {
   "cell_type": "code",
   "execution_count": 47,
   "metadata": {},
   "outputs": [],
   "source": [
    "american_files = os.listdir(AMERICAN_PATH)\n",
    "soccer_files = os.listdir(SOCCER_PATH)"
   ]
  },
  {
   "cell_type": "code",
   "execution_count": 36,
   "metadata": {},
   "outputs": [
    {
     "name": "stdout",
     "output_type": "stream",
     "text": [
      "OK\n",
      "OK\n",
      "OK\n",
      "OK\n",
      "OK\n",
      "OK\n",
      "OK\n",
      "OK\n",
      "OK\n",
      "OK\n",
      "OK\n",
      "OK\n",
      "OK\n",
      "OK\n",
      "OK\n",
      "OK\n",
      "OK\n",
      "OK\n",
      "OK\n",
      "OK\n",
      "OK\n",
      "OK\n",
      "OK\n",
      "OK\n",
      "OK\n",
      "OK\n",
      "OK\n",
      "OK\n",
      "OK\n",
      "OK\n",
      "OK\n",
      "OK\n",
      "OK\n",
      "OK\n",
      "OK\n",
      "OK\n",
      "OK\n",
      "OK\n",
      "OK\n",
      "OK\n",
      "OK\n",
      "OK\n",
      "OK\n",
      "OK\n",
      "OK\n",
      "OK\n",
      "OK\n",
      "OK\n",
      "OK\n",
      "OK\n",
      "OK\n",
      "OK\n",
      "OK\n",
      "OK\n",
      "OK\n",
      "OK\n",
      "OK\n",
      "OK\n",
      "OK\n",
      "OK\n",
      "OK\n",
      "OK\n",
      "OK\n",
      "OK\n",
      "OK\n",
      "OK\n",
      "OK\n",
      "OK\n",
      "OK\n",
      "OK\n",
      "OK\n",
      "OK\n",
      "OK\n",
      "OK\n",
      "OK\n",
      "OK\n",
      "OK\n",
      "OK\n",
      "OK\n",
      "OK\n",
      "OK\n",
      "OK\n",
      "OK\n",
      "OK\n",
      "OK\n",
      "OK\n",
      "OK\n",
      "OK\n"
     ]
    }
   ],
   "source": [
    "for fn in american_files:\n",
    "    if fn[-3:] == 'jpg':\n",
    "        print('OK')\n",
    "    elif fn[-4:] == 'jpeg':\n",
    "        im = Image.open(AMERICAN_PATH + fn)\n",
    "        rgb_im = im.convert('RGB')\n",
    "        rgb_im.save(AMERICAN_PATH + fn[:-4] + 'jpg')\n",
    "    else:\n",
    "        im = Image.open(AMERICAN_PATH + fn)\n",
    "        rgb_im = im.convert('RGB')\n",
    "        rgb_im.save(AMERICAN_PATH + fn[:-3] + 'jpg')"
   ]
  },
  {
   "cell_type": "code",
   "execution_count": 38,
   "metadata": {},
   "outputs": [
    {
     "data": {
      "text/plain": [
       "['23. american-football-gives-great-advantages-as-a-hobby.jpg',\n",
       " '46. 300px-gillette_stadium02.jpg',\n",
       " '93. usatsi_9782152.jpg',\n",
       " '96. football-run2.jpg',\n",
       " '15. 61dlvmbk4ul._sy355_.jpg',\n",
       " '32. 140514_t43pp_rci-football_sn635.jpg',\n",
       " '54. 5-625x350.jpg',\n",
       " '21. american-football-in-germany-1.jpg',\n",
       " '39. 20170114_blp505.jpg',\n",
       " '35. f17661ce-f46a-41c0-9f96-e9e35f0df546-2060x1236.jpeg',\n",
       " '22. tn_10_american-football-1344616591.jpg',\n",
       " '1. 220px-arian_foster_fumble.jpg',\n",
       " '83. foobaw.jpg',\n",
       " '11. football-pictures-4.jpg',\n",
       " '13. 130317_af1.jpg',\n",
       " '12. red-outside-grass-sport.jpg',\n",
       " '61. 80008890_l.jpg',\n",
       " '74. _102908184_malcolmjenkins.jpg',\n",
       " '44. hqdefault.jpg',\n",
       " '25. 26051270605_e96aeaf6e3_k.jpg',\n",
       " '29. american_football_2.jpg',\n",
       " '2. 1200px-larry_fitzgerald_catches_td_at_2009_pro_bowl.jpg',\n",
       " '45. skysports-rashaad-penny-seattle_4390964.jpg',\n",
       " '68. american-football-1463792_960_720.jpg',\n",
       " '88. 0ap3000000948436.jpg',\n",
       " '97. ?media_id=1492592670833095.jpg',\n",
       " '24. american-football.jpg',\n",
       " '7. tom-brady_cwdqwhibujwg1hexzxc3p8ph2.jpg',\n",
       " '28. man-grass-sport-field-game-action-soccer-football-player-american-football-sports-helmet-ball-uniform-athlete-tackle-football-player-quarterback-gridiron-football-1106898.jpg',\n",
       " '53. 201801280017t0001.jpg',\n",
       " '27. big_861f4c75b54e45a5bc6b2e371e1d5b0f.jpg',\n",
       " '67. 186-1336.jpg',\n",
       " '84. who-invented-american-football-1-2325409944.jpg',\n",
       " '47. 1200px-titans_texans.jpg',\n",
       " '41. alex-jenkins1.jpg',\n",
       " '6. c8d00c364d43d5bad43717587c327a268cee5bbf.jpg',\n",
       " '89. american-football-offense-football-team-quarterback-1460541.jpg',\n",
       " '52. detail-of-american-football-field-goal-post_ekvxbs-zl__f0000.png',\n",
       " '49. alliance-of-american-football.jpg',\n",
       " '77. wtf1631_black_1.jpg',\n",
       " '56. american-football_1f3c8.png',\n",
       " '76. max-verstappen-daniel-ricciardio-try-american-football.jpg',\n",
       " '75. am.jpg',\n",
       " '3. nintchdbpict000375554351.jpg',\n",
       " '10. 91fzip4udjl._sx355_.jpg',\n",
       " '33. i?img=%2fphoto%2f2018%2f0810%2fr411021_2_1296x729_16%2d9.jpg.jpg',\n",
       " '5. nfl-playoffs-486417.jpg',\n",
       " '62. 2857724c5f64d46.jpg',\n",
       " '31. m2-vlies-non-woven-i42169.jpg',\n",
       " '65. inflatable-american-football-helmet-for-adults.jpg',\n",
       " '82. nfl-official-bulk1.jpg',\n",
       " '98. affiche-foto-1080x675.jpg',\n",
       " '73. american-football-player-catching-ball-mid-air-in-stadium-picture-id480984257.jpg',\n",
       " '90. 20150207_blp503.jpg',\n",
       " '48. ?media_id=586883488102170.jpg',\n",
       " '38. screen-5.jpg',\n",
       " '30. jared-allen-alliance-of-american-football_0.jpg',\n",
       " '92. excellent-american-football-wallpapers.jpg',\n",
       " '71. gameplan.gif',\n",
       " '34. ifaf-2017-womens-worlds-game-5-2017-wwc-usa-v-fin-credit-david-zuskind-620x400.jpg',\n",
       " '9. wilsonjnrnfl.png',\n",
       " '20. 0715_usa-fra_socmed07.0.0.jpg',\n",
       " '19. emirates-dubai-stallions-2.png',\n",
       " '42. american-football.jpg',\n",
       " '26. american-football-player-kostuem--sportler-kostuem-superbowl-kostuem-maennerkostuem--29343-2.jpg',\n",
       " '16. featuredmyths.jpg',\n",
       " '36. 220px-american_football_referees.jpg',\n",
       " '85. 157046896.jpg',\n",
       " '87. american-football-football-defense-tackle-159574.jpeg',\n",
       " '79. 51orc3y2h6l._sy355_.jpg',\n",
       " '55. jaredallenfile.jpg',\n",
       " '51. american-football-player-catching-ball-clipart-vector_csp53183452.jpg',\n",
       " '60. american-football-teams-1200.jpg',\n",
       " '94. westminster-school-atlanta-georgia-vs.-community-school-naples-naples-florida-17-copy.jpg',\n",
       " '63. 51ivydsbxsl._sx329_bo1,204,203,200_.jpg',\n",
       " '86. minnesota-vikings-_3180565a.jpg',\n",
       " '72. american%20football%2015.16.jpg',\n",
       " '69. wilson_tds_leather.jpg',\n",
       " '58. american-football.jpg',\n",
       " '99. brady_gronk020918.jpg',\n",
       " '17. first-nfl-player-to-score-postseason-touchdowns-by-rushing-receiving-and-kick-returning-in-one-game-getty-images_tcm25-497235.png',\n",
       " '81. dallas-cowboys-vs-new-york-giants-nfl-football-package-1.jpg',\n",
       " '8. 7497544_r_z001a?$web$&$defaultpdp570$.jpg',\n",
       " '95. riley%20smith.jpg',\n",
       " '80. american-football-1.jpg',\n",
       " '37. user-295232906.jpg',\n",
       " '50. 635968912086807934-1190904792_40-funny-american-football-quotes-feature-image-860x450_c.jpg',\n",
       " '40. all-field-3-american-football-ndzl4o.jpg',\n",
       " '57. limonta-sport-american-football-1800x585.jpg',\n",
       " '14. maxresdefault.jpg',\n",
       " '78. pass_back_football.png',\n",
       " '66. american-football-player-being-tackled-picture-id531928024.jpg',\n",
       " '91. american-football-team-logo-identity-designs-featured.jpg',\n",
       " '59. rivers-3_web.jpg',\n",
       " '43. _ivy-league-drops-_3586670b.jpg',\n",
       " '64. shop_category_13194.jpg',\n",
       " '4. action-shot-8.jpg']"
      ]
     },
     "execution_count": 38,
     "metadata": {},
     "output_type": "execute_result"
    }
   ],
   "source": [
    "american_files"
   ]
  },
  {
   "cell_type": "code",
   "execution_count": 48,
   "metadata": {},
   "outputs": [
    {
     "name": "stdout",
     "output_type": "stream",
     "text": [
      "OK\n",
      "OK\n",
      "OK\n",
      "OK\n",
      "OK\n",
      "CONVERTED\n",
      "OK\n",
      "OK\n",
      "OK\n",
      "OK\n",
      "OK\n",
      "CONVERTED\n",
      "CONVERTED\n",
      "OK\n",
      "OK\n",
      "OK\n",
      "OK\n",
      "OK\n",
      "OK\n",
      "OK\n",
      "OK\n",
      "OK\n",
      "OK\n",
      "OK\n",
      "OK\n",
      "OK\n",
      "OK\n",
      "OK\n",
      "OK\n",
      "OK\n",
      "OK\n",
      "OK\n",
      "OK\n",
      "OK\n",
      "OK\n",
      "OK\n",
      "OK\n",
      "OK\n",
      "OK\n",
      "OK\n",
      "OK\n",
      "OK\n",
      "CONVERTED\n",
      "OK\n",
      "OK\n",
      "OK\n",
      "CONVERTED\n",
      "OK\n",
      "OK\n",
      "CONVERTED\n",
      "OK\n",
      "OK\n",
      "OK\n",
      "OK\n",
      "OK\n",
      "OK\n",
      "OK\n",
      "OK\n",
      "OK\n",
      "OK\n",
      "OK\n",
      "OK\n",
      "OK\n",
      "OK\n",
      "OK\n",
      "CONVERTED\n",
      "OK\n",
      "OK\n",
      "OK\n",
      "OK\n",
      "CONVERTED\n",
      "OK\n",
      "OK\n",
      "OK\n",
      "OK\n",
      "OK\n",
      "CONVERTED\n",
      "OK\n",
      "CONVERTED\n",
      "OK\n",
      "OK\n",
      "OK\n",
      "OK\n",
      "OK\n",
      "OK\n",
      "OK\n",
      "OK\n",
      "CONVERTED\n",
      "OK\n",
      "OK\n",
      "OK\n",
      "CONVERTED\n",
      "CONVERTED\n",
      "CONVERTED\n",
      "OK\n",
      "OK\n",
      "OK\n",
      "OK\n",
      "OK\n",
      "CONVERTED\n",
      "OK\n",
      "OK\n",
      "OK\n"
     ]
    }
   ],
   "source": [
    "for fn in soccer_files:\n",
    "    if fn[-3:] == 'jpg':\n",
    "        print('OK')\n",
    "    elif fn[-4:] == 'jpeg':\n",
    "        im = Image.open(SOCCER_PATH + fn)\n",
    "        rgb_im = im.convert('RGB')\n",
    "        rgb_im.save(SOCCER_PATH + fn[:-4] + 'jpg')\n",
    "        print('CONVERTED')\n",
    "    else:\n",
    "        im = Image.open(SOCCER_PATH + fn)\n",
    "        rgb_im = im.convert('RGB')\n",
    "        rgb_im.save(SOCCER_PATH + fn[:-3] + 'jpg')\n",
    "        print('CONVERTED')"
   ]
  },
  {
   "cell_type": "code",
   "execution_count": 49,
   "metadata": {},
   "outputs": [],
   "source": [
    "american_files = os.listdir(AMERICAN_PATH)\n",
    "soccer_files = os.listdir(SOCCER_PATH)"
   ]
  },
  {
   "cell_type": "code",
   "execution_count": 50,
   "metadata": {},
   "outputs": [
    {
     "data": {
      "text/plain": [
       "['98. 940x940.jpg',\n",
       " '43. 48-soccer-ball-solo_single_front_ee0e6213-8997-45fc-bfc5-483ef2dc1391.jpg',\n",
       " '45. dsc_0147.jpg',\n",
       " '33. griezmann-bale-messi-la-liga.jpg',\n",
       " '67. bng-l-ussoccer-1113-01.jpg',\n",
       " '5. ms',\n",
       " '5.jpg',\n",
       " '86. 2013soccer.jpg',\n",
       " '57. westandstation_view2_musco_night_rev2.jpg',\n",
       " '16. soccer-kick-goal-kickoff-1280.jpg',\n",
       " '44. 11029600.jpg',\n",
       " '43. 48-soccer-ball-solo_single_front_ee0e6213-8997-45fc-bfc5-483ef2dc1391.png',\n",
       " '73. 52928c08f74443849756b255e4ac5643_ba93508972914e749ed6556c811d31d4_1_www_marquee_standard.jpeg',\n",
       " '12. tmh_2122.jpg',\n",
       " '29. 10955592_web1_thinkstockphotos-soccer-497466485.jpg',\n",
       " '89. d95xwfoxrqwyzo4fsz65.jpg',\n",
       " '68. gerardo%20torrado.jpg',\n",
       " '24. 940x940.jpg',\n",
       " '51. maxresdefault.jpg',\n",
       " '81.jpg',\n",
       " '3. usp_mls__sporting_kc_at_los_angeles_galaxy_99048183.jpg',\n",
       " '6. dfb6a9a3ad.jpg',\n",
       " '8. xxxx_spo_ocr-l-soccer-generic-stock-001.jpg',\n",
       " '61. dsc_9792_releases.jpg',\n",
       " '2. sd-sp-us-soccer-pay-to-play-u20s-20180814.jpg',\n",
       " '35. wayne-rooney-dc-united-feature.jpg',\n",
       " '34. merlin_139473168_43b4f504-0606-4f74-ab23-16a3becd62da-articlelarge.jpg',\n",
       " '42. 13354669.jpg',\n",
       " '15. skyland_soccer_wap1769_2.jpg',\n",
       " '9. 20180414-u17wnt-training.jpg',\n",
       " '75. rexfeatures_9788283b.jpg',\n",
       " '36. img_1183-e1534132528728-1140x460.jpg',\n",
       " '52. hqdefault.jpg',\n",
       " '66. 4d633c16-nwslbs051416105.jpg',\n",
       " '26. mls__stadium_deal_promises_to_grow_youth_1_52034180_ver1.0_1280_720.jpg',\n",
       " '87. soccerstock.jpg',\n",
       " '63. fortnite-soccer-fields-where-are-all-the-soccer-fields-how-to-find-the-soccer-fields-974116.jpg',\n",
       " '94. 13354430.jpg',\n",
       " '78. football-4.jpg',\n",
       " '71. maxresdefault.jpg',\n",
       " '27. carousel.jpg',\n",
       " '10. maxresdefault.jpg',\n",
       " '46. ball-bkgnd.jpg',\n",
       " '21. soccer-word-origin.jpg',\n",
       " '37. 2018-03-19t133749z_1_lynxmpee2i132-oussp_rtroptp_3_sports-us-soccer-spain-mad-ronaldo.jpg',\n",
       " '6. dfb6a9a3ad.jpeg',\n",
       " '85. 636670040300145437-epa-russia-soccer-fifa-world-cup-2018.jpg',\n",
       " '40. soccer-194.jpg',\n",
       " '59. dsc_3477.jpg',\n",
       " '74. soccer-goal.jpeg',\n",
       " '50. 28911775001_5822252478001_5822250274001-vs.jpg',\n",
       " '74. soccer-goal.jpg',\n",
       " '95. soccer-moravian-dollarton-raczjpg-6c71caa4026272dc.jpeg',\n",
       " '53. 16soccerdecline4-articlelarge.jpg',\n",
       " '60. 669120050.0.jpg',\n",
       " '91. save.jpg',\n",
       " '32. football-real-madrid-uefa.jpg',\n",
       " '47. soccer.jpg',\n",
       " '62. bigstock-soccer-penalty-kick-7319510-c-r.jpg',\n",
       " '4. 915ea842-d5b7-4408-b4af-41623aae19f7.jpg',\n",
       " '38. 2e30f28cee634c669928e0c1d1beb872.jpg',\n",
       " '28. b9326933992z-1_20170329220535_000_g3t5lifsp-34-0.jpg',\n",
       " '95. soccer-moravian-dollarton-raczjpg-6c71caa4026272dc.jpg',\n",
       " '18. 11032927.jpg',\n",
       " '13. 13354427.jpg',\n",
       " '11. ?media_id=10155545625322946.jpg',\n",
       " '97. soccer-corruption-football-world-cup-match-fix-research-economics.jpg',\n",
       " '56. image?url=https%3a%2f%2fcdn-s3.si.com%2fs3fs-public%2fstyles%2fmarquee_large_2x%2fpublic%2f2018%2f08%2f16%2finter-juventus-milan-serie-a-ronaldo.jpg%3fitok%3dv5vobrz8&q=85.jpg',\n",
       " '64. soccer-87.jpg',\n",
       " '39. 636699795442777629-usatsi-11087679.jpg',\n",
       " '91. save.png',\n",
       " '55. soccer.jpg',\n",
       " '25. the-ball-stadion-football-the-pitch-47730.jpg',\n",
       " '1. wc-2up.jpg',\n",
       " '20. 800x-1.jpg',\n",
       " '30. mayr_170825_083_tb.jpg',\n",
       " '13. 13354427.jpeg',\n",
       " '84. img_5232.jpg',\n",
       " '83. dsc_0042.jpg',\n",
       " '41. 1404735510000-sb10066898ab-001-1.jpg',\n",
       " '49. 507312966bb3f7ab4b000000-750-562.jpg',\n",
       " '65. 190751-131-b431c216.jpg',\n",
       " '94. 13354430.jpeg',\n",
       " '48. soccer-player-kicking-ball-in-stadium-picture-id507687506?k=6&m=507687506&s=612x612&w=0&h=mtu9a64vwb4gmakpinbonzyjcmxu1qdgavxu1elwmji=.jpg',\n",
       " '69. 2018_08_08t19_57_40_868_07_00_graphic.png',\n",
       " '54. 920x920.jpg',\n",
       " '14. soccer.jpg',\n",
       " '58. soccer.jpg',\n",
       " '80. ttu_soccer_vs.jpg',\n",
       " '77. curvedkick-science-939707754.jpg',\n",
       " '79. virgil-van-dijk-edin-dzeko-liverpool-roma_ooqkj0y3b2u71nyct984hng6v.jpg',\n",
       " '76. 1534246236624.jpg',\n",
       " '92. best_55dec6eaa0ccc0c68e61_8df962bce68f5e6dfda3_soccer_lights.jpg',\n",
       " '72.jpg',\n",
       " '42. 13354669.jpeg',\n",
       " '96. 5a6_jspdiv1girlssoccer28.jpg',\n",
       " '7. lead_720_405.jpg',\n",
       " '22. 300px-football_iu_1996.jpg',\n",
       " '23. er',\n",
       " '25. the-ball-stadion-football-the-pitch-47730.jpeg',\n",
       " '72. ad',\n",
       " '17. https%3a%2f%2fblueprint-api-production.s3.amazonaws.com%2fuploads%2fcard%2fimage%2f649441%2fe37ef262-82c3-4b37-a92d-d400a9ea86c3.jpg',\n",
       " '31. westandstation_view2_musco_night_rev2.0.jpg',\n",
       " '73. 52928c08f74443849756b255e4ac5643_ba93508972914e749ed6556c811d31d4_1_www_marquee_standard.jpg',\n",
       " '19. soccer_generic.jpg',\n",
       " '70. 10583701_h23618850-720x445.jpg',\n",
       " '23.jpg',\n",
       " '81. ms',\n",
       " '88. soccer_generic_web.jpg',\n",
       " '90. j0xtl06q_400x400.jpg',\n",
       " '69. 2018_08_08t19_57_40_868_07_00_graphic.jpg',\n",
       " '82. ?istyle=0000&fmt=png&img=a1003848000&iset=0100&c=999&iindex=0088&w=600&h=600.jpg']"
      ]
     },
     "execution_count": 50,
     "metadata": {},
     "output_type": "execute_result"
    }
   ],
   "source": [
    "soccer_files"
   ]
  },
  {
   "cell_type": "code",
   "execution_count": 51,
   "metadata": {},
   "outputs": [],
   "source": [
    "american_files = os.listdir(AMERICAN_PATH)\n",
    "soccer_files = os.listdir(SOCCER_PATH)"
   ]
  },
  {
   "cell_type": "code",
   "execution_count": 52,
   "metadata": {},
   "outputs": [
    {
     "data": {
      "text/plain": [
       "(99, 97)"
      ]
     },
     "execution_count": 52,
     "metadata": {},
     "output_type": "execute_result"
    }
   ],
   "source": [
    "len(american_files), len(soccer_files)"
   ]
  },
  {
   "cell_type": "code",
   "execution_count": 54,
   "metadata": {},
   "outputs": [
    {
     "name": "stdout",
     "output_type": "stream",
     "text": [
      "OK\n",
      "OK\n",
      "OK\n",
      "OK\n",
      "OK\n",
      "OK\n",
      "OK\n",
      "OK\n",
      "OK\n",
      "OK\n",
      "NOT CONVERTED:\n",
      "\n",
      "\n",
      "35. f17661ce-f46a-41c0-9f96-e9e35f0df546-2060x1236.jpeg\n",
      "OK\n",
      "OK\n",
      "OK\n",
      "OK\n",
      "OK\n",
      "OK\n",
      "OK\n",
      "OK\n",
      "OK\n",
      "OK\n",
      "OK\n",
      "OK\n",
      "OK\n",
      "OK\n",
      "OK\n",
      "OK\n",
      "OK\n",
      "OK\n",
      "OK\n",
      "OK\n",
      "OK\n",
      "OK\n",
      "OK\n",
      "OK\n",
      "OK\n",
      "OK\n",
      "OK\n",
      "OK\n",
      "OK\n",
      "OK\n",
      "OK\n",
      "OK\n",
      "OK\n",
      "OK\n",
      "OK\n",
      "OK\n",
      "OK\n",
      "OK\n",
      "OK\n",
      "OK\n",
      "OK\n",
      "OK\n",
      "OK\n",
      "OK\n",
      "OK\n",
      "OK\n",
      "OK\n",
      "OK\n",
      "OK\n",
      "OK\n",
      "OK\n",
      "OK\n",
      "OK\n",
      "OK\n",
      "OK\n",
      "OK\n",
      "OK\n",
      "OK\n",
      "NOT CONVERTED:\n",
      "\n",
      "\n",
      "87. american-football-football-defense-tackle-159574.jpeg\n",
      "OK\n",
      "OK\n",
      "OK\n",
      "OK\n",
      "OK\n",
      "OK\n",
      "OK\n",
      "OK\n",
      "OK\n",
      "OK\n",
      "OK\n",
      "OK\n",
      "OK\n",
      "OK\n",
      "OK\n",
      "OK\n",
      "OK\n",
      "OK\n",
      "OK\n",
      "OK\n",
      "OK\n",
      "OK\n",
      "OK\n",
      "OK\n",
      "OK\n",
      "OK\n",
      "OK\n",
      "OK\n",
      "OK\n"
     ]
    }
   ],
   "source": [
    "for fn in american_files:\n",
    "    if fn[-3:] == 'jpg':\n",
    "        print('OK')\n",
    "    else:\n",
    "        print('NOT CONVERTED:')\n",
    "        print(fn)"
   ]
  },
  {
   "cell_type": "code",
   "execution_count": 55,
   "metadata": {},
   "outputs": [],
   "source": [
    "american_files = os.listdir(AMERICAN_PATH)\n",
    "soccer_files = os.listdir(SOCCER_PATH)"
   ]
  },
  {
   "cell_type": "code",
   "execution_count": 56,
   "metadata": {},
   "outputs": [
    {
     "name": "stdout",
     "output_type": "stream",
     "text": [
      "OK\n",
      "OK\n",
      "OK\n",
      "OK\n",
      "OK\n",
      "OK\n",
      "OK\n",
      "OK\n",
      "OK\n",
      "OK\n",
      "OK\n",
      "OK\n",
      "OK\n",
      "OK\n",
      "OK\n",
      "OK\n",
      "OK\n",
      "OK\n",
      "OK\n",
      "OK\n",
      "OK\n",
      "OK\n",
      "OK\n",
      "OK\n",
      "OK\n",
      "OK\n",
      "OK\n",
      "OK\n",
      "OK\n",
      "OK\n",
      "OK\n",
      "OK\n",
      "OK\n",
      "OK\n",
      "OK\n",
      "OK\n",
      "OK\n",
      "OK\n",
      "OK\n",
      "OK\n",
      "OK\n",
      "OK\n",
      "OK\n",
      "OK\n",
      "OK\n",
      "OK\n",
      "OK\n",
      "OK\n",
      "OK\n",
      "OK\n",
      "OK\n",
      "OK\n",
      "OK\n",
      "OK\n",
      "OK\n",
      "OK\n",
      "OK\n",
      "OK\n",
      "OK\n",
      "OK\n",
      "OK\n",
      "OK\n",
      "OK\n",
      "OK\n",
      "OK\n",
      "OK\n",
      "OK\n",
      "OK\n",
      "OK\n",
      "OK\n",
      "OK\n",
      "OK\n",
      "OK\n",
      "OK\n",
      "OK\n",
      "OK\n",
      "OK\n",
      "OK\n",
      "OK\n",
      "OK\n",
      "OK\n",
      "OK\n",
      "OK\n",
      "OK\n",
      "OK\n",
      "OK\n",
      "OK\n",
      "OK\n",
      "OK\n",
      "OK\n",
      "OK\n",
      "OK\n",
      "OK\n",
      "OK\n",
      "OK\n",
      "OK\n",
      "OK\n"
     ]
    }
   ],
   "source": [
    "for fn in american_files:\n",
    "    if fn[-3:] == 'jpg':\n",
    "        print('OK')\n",
    "    else:\n",
    "        print('NOT CONVERTED:')\n",
    "        print(fn)"
   ]
  },
  {
   "cell_type": "code",
   "execution_count": 57,
   "metadata": {},
   "outputs": [
    {
     "name": "stdout",
     "output_type": "stream",
     "text": [
      "OK\n",
      "OK\n",
      "OK\n",
      "OK\n",
      "OK\n",
      "OK\n",
      "OK\n",
      "OK\n",
      "OK\n",
      "OK\n",
      "OK\n",
      "OK\n",
      "OK\n",
      "OK\n",
      "OK\n",
      "OK\n",
      "OK\n",
      "OK\n",
      "OK\n",
      "OK\n",
      "OK\n",
      "OK\n",
      "OK\n",
      "OK\n",
      "OK\n",
      "OK\n",
      "OK\n",
      "OK\n",
      "OK\n",
      "OK\n",
      "OK\n",
      "OK\n",
      "OK\n",
      "OK\n",
      "OK\n",
      "OK\n",
      "OK\n",
      "OK\n",
      "OK\n",
      "OK\n",
      "OK\n",
      "OK\n",
      "OK\n",
      "OK\n",
      "OK\n",
      "OK\n",
      "OK\n",
      "OK\n",
      "OK\n",
      "OK\n",
      "OK\n",
      "OK\n",
      "OK\n",
      "OK\n",
      "OK\n",
      "OK\n",
      "OK\n",
      "OK\n",
      "OK\n",
      "OK\n",
      "OK\n",
      "OK\n",
      "OK\n",
      "OK\n",
      "OK\n",
      "OK\n",
      "OK\n",
      "OK\n",
      "OK\n",
      "OK\n",
      "OK\n",
      "OK\n",
      "OK\n",
      "OK\n",
      "OK\n",
      "OK\n",
      "OK\n",
      "OK\n",
      "OK\n",
      "OK\n",
      "OK\n",
      "OK\n",
      "OK\n",
      "OK\n",
      "OK\n",
      "OK\n",
      "OK\n",
      "OK\n",
      "OK\n",
      "OK\n",
      "OK\n",
      "OK\n",
      "OK\n",
      "OK\n",
      "OK\n",
      "OK\n",
      "OK\n"
     ]
    }
   ],
   "source": [
    "for fn in soccer_files:\n",
    "    if fn[-3:] == 'jpg':\n",
    "        print('OK')\n",
    "    else:\n",
    "        print('NOT CONVERTED:')\n",
    "        print(fn)"
   ]
  },
  {
   "cell_type": "code",
   "execution_count": 58,
   "metadata": {},
   "outputs": [],
   "source": [
    "american_files = os.listdir(AMERICAN_PATH)\n",
    "soccer_files = os.listdir(SOCCER_PATH)"
   ]
  },
  {
   "cell_type": "code",
   "execution_count": 60,
   "metadata": {},
   "outputs": [],
   "source": [
    "from shutil import copyfile"
   ]
  },
  {
   "cell_type": "code",
   "execution_count": 69,
   "metadata": {},
   "outputs": [
    {
     "data": {
      "text/plain": [
       "'/home/ubuntu/data/football/train/'"
      ]
     },
     "execution_count": 69,
     "metadata": {},
     "output_type": "execute_result"
    }
   ],
   "source": [
    "TRAIN_PATH"
   ]
  },
  {
   "cell_type": "code",
   "execution_count": 70,
   "metadata": {},
   "outputs": [
    {
     "data": {
      "text/plain": [
       "'/home/ubuntu/data/football/valid/'"
      ]
     },
     "execution_count": 70,
     "metadata": {},
     "output_type": "execute_result"
    }
   ],
   "source": [
    "VALID_PATH"
   ]
  },
  {
   "cell_type": "code",
   "execution_count": 71,
   "metadata": {},
   "outputs": [],
   "source": [
    "for i, fn in list(enumerate(american_files)):\n",
    "    if i < len(american_files)*0.8:\n",
    "        copyfile(AMERICAN_PATH + fn, TRAIN_PATH + 'american/' + fn)\n",
    "    else:\n",
    "        copyfile(AMERICAN_PATH + fn, VALID_PATH + 'american/' + fn)"
   ]
  },
  {
   "cell_type": "code",
   "execution_count": 72,
   "metadata": {},
   "outputs": [],
   "source": [
    "for i, fn in list(enumerate(soccer_files)):\n",
    "    if i < len(american_files)*0.8:\n",
    "        copyfile(SOCCER_PATH + fn, TRAIN_PATH + 'soccer/' + fn)\n",
    "    else:\n",
    "        copyfile(SOCCER_PATH + fn, VALID_PATH + 'soccer/' + fn)"
   ]
  },
  {
   "cell_type": "code",
   "execution_count": 73,
   "metadata": {},
   "outputs": [
    {
     "data": {
      "text/plain": [
       "126"
      ]
     },
     "execution_count": 73,
     "metadata": {},
     "output_type": "execute_result"
    }
   ],
   "source": [
    "os.listdir(TRAIN_PATH + 'american/')"
   ]
  },
  {
   "cell_type": "code",
   "execution_count": 74,
   "metadata": {},
   "outputs": [
    {
     "data": {
      "text/plain": [
       "126"
      ]
     },
     "execution_count": 74,
     "metadata": {},
     "output_type": "execute_result"
    }
   ],
   "source": [
    "len(VALID_PATH + 'american/')"
   ]
  },
  {
   "cell_type": "code",
   "execution_count": 77,
   "metadata": {},
   "outputs": [
    {
     "data": {
      "text/plain": [
       "124"
      ]
     },
     "execution_count": 77,
     "metadata": {},
     "output_type": "execute_result"
    }
   ],
   "source": [
    "len(TRAIN_PATH + 'soccer/' + fn)"
   ]
  },
  {
   "cell_type": "code",
   "execution_count": 78,
   "metadata": {},
   "outputs": [
    {
     "data": {
      "text/plain": [
       "124"
      ]
     },
     "execution_count": 78,
     "metadata": {},
     "output_type": "execute_result"
    }
   ],
   "source": [
    "len(VALID_PATH + 'soccer/' + fn)"
   ]
  },
  {
   "cell_type": "code",
   "execution_count": null,
   "metadata": {},
   "outputs": [],
   "source": []
  }
 ],
 "metadata": {
  "kernelspec": {
   "display_name": "Python 3",
   "language": "python",
   "name": "python3"
  },
  "language_info": {
   "codemirror_mode": {
    "name": "ipython",
    "version": 3
   },
   "file_extension": ".py",
   "mimetype": "text/x-python",
   "name": "python",
   "nbconvert_exporter": "python",
   "pygments_lexer": "ipython3",
   "version": "3.6.6"
  }
 },
 "nbformat": 4,
 "nbformat_minor": 2
}
